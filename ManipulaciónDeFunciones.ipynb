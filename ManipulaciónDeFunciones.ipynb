{
  "nbformat": 4,
  "nbformat_minor": 0,
  "metadata": {
    "colab": {
      "name": "Notebook6_ManipulaciónDeFunciones.ipynb",
      "provenance": [],
      "collapsed_sections": [],
      "authorship_tag": "ABX9TyOxD7BCIrFR7w9IjMD8xWTe",
      "include_colab_link": true
    },
    "kernelspec": {
      "name": "python3",
      "display_name": "Python 3"
    },
    "language_info": {
      "name": "python"
    },
    "widgets": {
      "application/vnd.jupyter.widget-state+json": {
        "d3bea73abafa49f4ad48207d183ae8d8": {
          "model_module": "@jupyter-widgets/controls",
          "model_name": "VBoxModel",
          "model_module_version": "1.5.0",
          "state": {
            "_view_name": "VBoxView",
            "_dom_classes": [
              "widget-interact"
            ],
            "_model_name": "VBoxModel",
            "_view_module": "@jupyter-widgets/controls",
            "_model_module_version": "1.5.0",
            "_view_count": null,
            "_view_module_version": "1.5.0",
            "box_style": "",
            "layout": "IPY_MODEL_97b6cdff0388454e8b3a2477526b966f",
            "_model_module": "@jupyter-widgets/controls",
            "children": [
              "IPY_MODEL_dbedaec2bc65400988728bcf31cd50d6",
              "IPY_MODEL_cb18796c85714fd49f5eff5a51588c3d"
            ]
          }
        },
        "97b6cdff0388454e8b3a2477526b966f": {
          "model_module": "@jupyter-widgets/base",
          "model_name": "LayoutModel",
          "model_module_version": "1.2.0",
          "state": {
            "_view_name": "LayoutView",
            "grid_template_rows": null,
            "right": null,
            "justify_content": null,
            "_view_module": "@jupyter-widgets/base",
            "overflow": null,
            "_model_module_version": "1.2.0",
            "_view_count": null,
            "flex_flow": null,
            "width": null,
            "min_width": null,
            "border": null,
            "align_items": null,
            "bottom": null,
            "_model_module": "@jupyter-widgets/base",
            "top": null,
            "grid_column": null,
            "overflow_y": null,
            "overflow_x": null,
            "grid_auto_flow": null,
            "grid_area": null,
            "grid_template_columns": null,
            "flex": null,
            "_model_name": "LayoutModel",
            "justify_items": null,
            "grid_row": null,
            "max_height": null,
            "align_content": null,
            "visibility": null,
            "align_self": null,
            "height": null,
            "min_height": null,
            "padding": null,
            "grid_auto_rows": null,
            "grid_gap": null,
            "max_width": null,
            "order": null,
            "_view_module_version": "1.2.0",
            "grid_template_areas": null,
            "object_position": null,
            "object_fit": null,
            "grid_auto_columns": null,
            "margin": null,
            "display": null,
            "left": null
          }
        },
        "dbedaec2bc65400988728bcf31cd50d6": {
          "model_module": "@jupyter-widgets/controls",
          "model_name": "IntSliderModel",
          "model_module_version": "1.5.0",
          "state": {
            "_view_name": "IntSliderView",
            "style": "IPY_MODEL_4461ebeb20b74e27b1ab6de1b73030c9",
            "_dom_classes": [],
            "description": "k",
            "step": 1,
            "_model_name": "IntSliderModel",
            "orientation": "horizontal",
            "max": 5,
            "_view_module": "@jupyter-widgets/controls",
            "_model_module_version": "1.5.0",
            "value": 3,
            "_view_count": null,
            "disabled": false,
            "_view_module_version": "1.5.0",
            "min": -5,
            "continuous_update": true,
            "readout_format": "d",
            "description_tooltip": null,
            "readout": true,
            "_model_module": "@jupyter-widgets/controls",
            "layout": "IPY_MODEL_8bfa428698f34b90bf8f3799d31553c3"
          }
        },
        "cb18796c85714fd49f5eff5a51588c3d": {
          "model_module": "@jupyter-widgets/output",
          "model_name": "OutputModel",
          "model_module_version": "1.0.0",
          "state": {
            "_view_name": "OutputView",
            "msg_id": "",
            "_dom_classes": [],
            "_model_name": "OutputModel",
            "outputs": [
              {
                "output_type": "display_data",
                "data": {
                  "image/png": "iVBORw0KGgoAAAANSUhEUgAAAZsAAAEWCAYAAACwtjr+AAAABHNCSVQICAgIfAhkiAAAAAlwSFlzAAALEgAACxIB0t1+/AAAADh0RVh0U29mdHdhcmUAbWF0cGxvdGxpYiB2ZXJzaW9uMy4yLjIsIGh0dHA6Ly9tYXRwbG90bGliLm9yZy+WH4yJAAAgAElEQVR4nO3deZwU9Z3/8ddnZhjum+FGEIEBNIKCCB5x8MAjHjmMkmw8ogkxG/e3JnETE7OJySb7W5OYbGLi+jPGGF2TSNaoqERFZaIY8QBBDkGQQ2C4YYDhnpnP74+qcZumew6mq6t75v18PPox3VXfrnr3t2v603V0lbk7IiIiUSqIO4CIiLR8KjYiIhI5FRsREYmcio2IiEROxUZERCKnYiMiIpFTsRERkcip2LQiZlaVcKs1s/0Jj//BzO4ws8Ph40oz+7uZTUoxnQfNrNrM+iUNv8PM3MyuShhWFA4bEj4eaGaPmdk2M9tlZovN7Ppw3JCwbWLOhQnTGmhmj5jZdjPba2ZvmNmlSRk8HFdlZhvM7GdmVpgwvjxsMybpeY+Hw8uShl8fDr86RT+MMLM/J7yWd8zsa2ZWmPBaihLan2FmL5nZnrD9U2Y2OmF8Wfice5LmM6euj1JkqHvP9oS398zsV4nvTTjd2qR+rUr13obt1yQtG1Vm1j+czvoU7cvN7AsJeepdBsJhE8xsZric7Qjfy88n5F2fNI9LwzZ7w/f/ETMbmOJ9+kbS89bXvadJy3fdrTKh7RVmtsDMdofv6UtmdnyqPpKmU7FpRdy9U90N+AC4LGHYI2GzR8PxvYDZwJ8Tp2FmHYFPAbuAz6WYzQ7g+4kf8EkeBtYBg4GewDXA5qQ23RJyjQnn2wOYAxwCTgzz/Rz4g5ldmfT8MeFrOAe4Grghafx7wLUJr6knMAnYmiLvdeFrujZxoJmdALwevpaPuHtX4NPAeKBz8kTCD/bngSeB/sDxwELgVTMbmtB0L3BN4gdzIzzq7p2BHsAngL7APDvyy0BF4vsf3l6rZ5qXJbWtaEKeepeBsC9eAv4GDCNYDr4MXJym/ZXAH4D/JHjfTwQOAnPMrHvSfL9hZkf1f4JHk15Xt3Aew4CHgK8DXQnen18DNY17ydIQFRtJyd2rgUeAAWZWkjDqU0Al8AOCD+JkzxIUhFSFCOA04EF33+vu1e7+trv/tRGRvgpUATe6+yZ33+/ufwR+BNxlZpbiNawEXgXGJo16BLg64cPwM8DjYe4PmdlggoI1DbjQzPomjP4+8Hd3/5q7bwznt9zdP+vulRztx8BD7v4Ld9/j7jvc/TvAXOCOhHaVwIPA9xroj6O4+2F3X0JQYLcSfHDGoaFl4CfA7939Tnff5oF57n5VcsPwfb0L+KG7/yF83zcBXyBYHr6a0Pxd4DXga8eQeSyw2t1fDPPscffH3P2DY5iWpKBiIymZWTHBt/ntwM6EUdcBfwT+BIw0s3FJT3XgX4HvmVmbFJOeC/zazKaa2XFNiHQB8Ji71yYNnw4cB4xI8RpGAmcDK5NGVQBLgSnh42sJvtUmuxZ4y90fI/gg+4eEcecD/9OY4GbWATiDpLXEhPwXJA37EfApMyttzPSTuXsNwRrU2cfy/AxIuwyEfTGJRvYdUErw/h7Rd+Fy8BhH992/AreEa8JNMZ9gef65mU02s05NfL40QMVGkl0VbsfeD3wRuDJcyyEsDpOBP7j7ZuBFkjYvAbj7DIJv1l9IMf1PA68QfCisDreRn5bUZlu4Lb/SzG4Nh/UCNqaY3saE8XXmm9leggJRDtyT/CSC4nJtWJC6pdmkdC3B5hvCv4mvtWeaPKn0IPhfS5c/MTvhN/d7CdYej1VFON86/RP6tO7WsZ7nP5HQ7ommzryeZaA76fsilbq+aWzfLQBmAd9MM72rkvpgdvi8VUAZMIDgC8A2C/ZNquhkiIqNJJsebsfuAywGEtdcrgHeDf+hIdgc9dk0azDfAW4H2iUOdPed7n6bu58YzmMBwQdb4mawXu7eLbz9NBy2DTjigIRQv4TxdU4FOhFsTjodSPWh+hfgXOBmgv1IRzCzMwm22/8pHPQH4CNmVrdJbnuaPKnsBGrryb8txfA7CTbdjUkxrjEGEOzDqFOR0Kd1t731PP/jCe0+Hg6rBlK9122AwymGp1oG6uuLVOr6pil9913gy2bWJ8W46Ul9MLluhLvPdfer3L2EYK3wo2F+yQAVG0nJ3bcR7Ku4I2FH87XAUDPbZGabgJ8RfLO8JMXzZxFsvvrHBubxU4Id5g1t9ngB+KSZJS+zVxHspH8vadru7tMJtuF/N8W89wF/JdgxfVSxIdhcaMCC8LW+njC8Ls+nGshcN6+9YY5Ppxh9FcEaYvJzthPsEP+3xswjUdhHlxGsQWbSB0CvxG/74ZeEwcDa5MaploGw31+jkX0HLAfWk9R34Wv8FKn7bhnBl4ljLhTu/mY4jZOOdRpyJBUbScvdlwPPERzhMwk4AZhAsDN1LME/YvLmpUS3A8mHot5pZieFh8N2JviwXxl+uNbn5wRHCf3WzPqaWTsz+0w4j3/x9NfK+A/gi0k79+t8GzjH3dckZWxHUASmJbzWscA/EazJFRHswD/DzH5SN20zG2Zm/21m3VLM6zbgOjP7P2bW2cy6m9kPCfZffD9N9p8R7OsZlWb8EcI+HUWwT61v+PyMCXeWvw7caWadzKwt8C8EazVz0zztqGUgfHy9mf1LeCQgZjbGzP6U/OTwfb0V+I6ZfTZ83/sC9wNdCJaLVL4PfB5I9V4cxczOMrMvmlnv8PFI4PJ6Xpc0kYqNNOQnBB+6XwSedPdF4dFgm8J9C78ALk21Q9bdXwXeSBrcgeDIr0pgFcG34ssbChEWo7MINsksJdiM9TXgGnd/tJ7nLQJeJvhQTB5X4e5zUjzt4wT7rB5Keq0PAEXARe7+PkGhGAIsMbNdBDus3wL2pJjXHOBC4JME+xrWAqcAZ7n7ijTZdxMcxdbQWt/VZlZFcDj6DIK+GZd0uHJ/O/p3No1duzhiXkBvgjWWDcB5wMfc/UCa13DUMuDufyfYhHkusMrMdgD3ATPTTONRgk24Xw1f21KgPXBmui8p7r6aYI01eRPq1Sn6oTfB8ng5sCjsy2cJltMf19cZ0niW/guhiIhIZmjNRkREIhdrsTGzB8xsi5ktThjWw8xmmdmK8G/3NM+9LmyzwsxS/bhQRERyRNxrNg8CFyUNuw140d2HExxpclvyk8L9A98jOKx1AsGPx1IWJRERiV+sxcbdX+bI3wIAXAH8Prz/e4KdtckuBGaFp/zYSfAjruSiJSIiOaKo4SZZ16fuXFPAJoIf/iUbQPDbijrrw2FHMbNpBEdT0a5du3HHHdeUM6TEo7a2loKCzH4PqKiqpcCgb8fMTDeKjFHIh5zr9q3DcQZ1OI61u2vpWmx0b3fUqd5yQj70Jyhnpr333nvbwh+7HrNcLDYfcnc3s2YdLufu9xEcVklpaakvX748I9miVF5eTllZWUan+aNnlvL7v69l4R1TaNcm3QmZGy+KjFHIh5xlD5ZRWVnJPZe9wGd/8zq/u/40Jo/sHXeslPKhP0E5M83MjvrRblPlYkndXPeL9fDvlhRtNgCDEh4PDIdJGpNO6Mmhmlrmf7Cz4cYSizdW78AMTh2s3Y/S8uRisZnB/54S5DqCs9cmew6YEv4KuzvB2Xufy1K+vDR+SA8KDOauSt5FJrnizTU7GNW3C13bpzr9mEh+i/vQ5z8SnCep1IIr6t1IcHqRC8xsBcFp3P8jbDvezO4HcPcdBOeMejO8/SAcJml0adeGkwZ0Ze77DZ0VRuLgwPy1lUw4vqlnxhfJD7Hus3H3z6QZdV6Ktm+RcLpyd3+A4PQh0kiThvbkd6+uYf+hGtoXN3+/jWTOgWrn4OEaJg7tGXcUkUjk4mY0icjEodpvk6v2HgYzmDhUazbSMqnYtCLjh3SnsMCYu0qb0nLNvsPOif270K1DcdxRRCKhYtOKdK7bb6Nik1Nq3dlf40zSJjRpwVRsWpmJQ3uwYF0l+w/VxB1FQnsOVOMOZ5zQq+HGInlKxaaVmTS0J4drnHlrtd8mV+zefxgzOE1HokkLpmLTyowf0oPCAuO1Vaku3S5x2H3gMO0KjU5tc/qEHiLNomLTynRqW8RHBnTVjztzRNXBaqoO1tChTW6eC00kU1RsWqFJJ/Rk4bpK9h6sjjtKq/fm6h24Ox21UiMtnIpNK3TGCT2prnXeWK21m7i9tmo7BWa0L9KajbRsKjat0GlDelBcVMArK7TfJm5/f38bndoWYao10sKp2LRC7doUMmFID+as3Bp3lFatct8hllTspotOvCmtgIpNK3XW8F68t7mKzbsPxB2l1Zq7agfu6CzP0iqo2LRSZw0LfkA4R5vSYvPKiq10LC7UIc/SKqjYtFKj+3WhZ8di5qxUsYmDu/Pyiq1MOqGX9tdIq6Bi00oVFBhnDOvFnJXbcG/WlbflGKzdvo91O/bz0RE6RY20Dio2rdjZw3qxdc9Blm/eE3eUVueVFcHBGR8dXhJzEpHsULFpxc4arv02cfnbe9sY1KM9g3t2iDuKSFao2LRi/bu1Z2hJR/3eJssO19Ty2vvbOHt4CaYdNtJK5GSxMbNSM1uQcNttZrcktSkzs10Jbb4bV958dvawXry+ejsHq3XJgWyZv3Ynew/VaBOatCo5WWzcfbm7j3X3scA4YB/weIqmr9S1c/cfZDdly3DmsF4cOFzL/LWVcUdpNV5ZsY3CAmPSCbpYmrQeOVlskpwHvO/ua+MO0hJNOqEnRQXGyyt0NoFseXnFVsYO6qYfc0qrkg/FZirwxzTjJpnZQjP7q5mdmM1QLUXndm0YN7g7s5dtiTtKq7Bj7yEWbdilTWjS6lgu/8bCzIqBCuBEd9+cNK4LUOvuVWZ2CfALdx+eYhrTgGkAJSUl46ZPn56F5M1TVVVFp06dsja/masPMX35YX5W1p4e7Rr3/SPbGY9VruWcu7Gaexce5DsT2zGsWyEAtyy4hZqaGu4ed3fM6RqWa/2ZjnJm1uTJk+e5+/hmTcTdc/YGXAE838i2a4Be9bUZMWKE54PZs2dndX7LN+32wd982v/w+tpGPyfbGY9VruW8dfoC/8j3nvXqmtoPh53zu3N8zM/HxJiq8XKtP9NRzswC3vJmfp7n+ma0z5BmE5qZ9bXwuFEzm0CwSXB7FrO1GMN7d2JAt/balBax2lqn/L2tnD28hMICHfIsrUvOngHQzDoCFwBfShh2E4C73wtcCXzZzKqB/cDUsAJLE5kZZaUlPPH2Bg5W19C2qDDuSC3S4opdbN1zkPNG9Y47ikjW5eyajbvvdfee7r4rYdi9YaHB3X/l7ie6+xh3n+juf48vbf47d2Rv9h6q4a01O+OO0mK9+O4WzKCsVMVGWp+cLTaSXZNO6ElxUYE2pUXopWVbOPW47vToWBx3FJGsU7ERADoUFzFxaE9eWq5iE4Utuw+waMMuzh2ptRppnVRs5EOTS0tYtXUva7fvjTtKizM7LOIqNtJaqdjIhyaH+xLKl+tsApn24rtb6N+1HSP7do47ikgsVGzkQ0N6dWRor468pP02GXXgcA1zVm7j3FG9dZZnabVUbOQIk0f25rVV26k6WB13lBbj9dU72HeohvNG9ok7ikhsVGzkCFNG9+FQdS0vv6dNaZny0rubademQGd5llZNxUaOMH5ID3p0LOa5JZvijtIiuDsvLtvCWcN60a6NfiwrrZeKjRyhsMA4f1RvXlq2hUPVtXHHyXvLN+9h/c79nKtNaNLKqdjIUaaM7sueA9XMXaVTzTXXs4s3YQbnj9Yhz9K6qdjIUc4a3osOxYU8v1Sb0prr2cWbOG1wD3p3bhd3FJFYqdjIUdq1KeScESXMWrqZ2lqd2/RYrd62l2Wb9nDhSX3jjiISOxUbSWnKiX3YvPsgC9dXxh0lb9UdZHGRio2Iio2kdm5pHwoLjOeXbm64saT018WbOHlgVwZ0ax93FJHYqdhISl07tGHi0B48r0Ogj0lF5X4WrqvkwhO1ViMCKjZSjwtP7Mv7W/eycsueuKPknbpNaBdrE5oIoGIj9bjwxL6YwTPvaO2mqZ5dvIkRfToxtKRT3FFEcoKKjaTVp0s7ThvSg6feqUBX3G68bVUHeXPNDi46qV/cUURyhoqN1OuyMf1ZuaWK5Zu1Ka2xZi3dTK3DRdpfI/KhnC02ZrbGzBaZ2QIzeyvFeDOzX5rZSjN7x8xOjSNnS3fxSX0pMHhqYUXcUfLGUwsrOL5XR0b107VrROrkbLEJTXb3se4+PsW4i4Hh4W0a8F9ZTdZK9OrUljOH9eLpdzZqU1ojbN59gNdWbefyMf117RqRBLlebOpzBfCQB+YC3cxMG8kjcOnJ/Vi7fR+LNuyKO0rOe2phBe5w+dj+cUcRySlFcQeohwPPm5kD/8/d70saPwBYl/B4fThsY2IjM5tGsOZDSUkJ5eXlkQXOlKqqqpzK2fGQU2hwz9NvMHVkMZB7GdPJds5H/r6fIV0KWLfkrSMWzvpUVlZSU1Oj/swg5cw9uVxsznL3DWbWG5hlZsvc/eWmTiQsUvcBlJaWellZWYZjZl55eTm5lvMvFW/yzsbd3PPRcygosJzMmEo2c67etpfVz5Zz+yWjKPvo0EY/r9uablRWVqo/M0g5c0/ObkZz9w3h3y3A48CEpCYbgEEJjweGwyQCl57cj4pdB3h73c64o+SsGQsqMINLx2hrrkiynCw2ZtbRzDrX3QemAIuTms0Arg2PSpsI7HL3jUgkLhjdh+KiAmYs0FFpqbg7Ty7cwOnH96BfV50LTSRZThYboA8wx8wWAm8Az7j7s2Z2k5ndFLaZCawCVgK/Af4xnqitQ+d2bbhgdB+eXFjBweqauOPknCUVu1m1dS9XjB0QdxSRnJST+2zcfRUwJsXwexPuO/CVbOZq7a4cN5Bn3tnI7GVb0KXAjvTkgg20KTSdC00kjVxds5EcdPawXvTu3Jb/mbc+7ig5pbqmlhkLKzhnRAndOhTHHUckJ6nYSKMVFRbwiVMHMHv5VnYd1A8867y8Yiubdx/kynED444ikrNUbKRJPj1uIDW1zmsV1XFHyRmPvrmOnh2LOXdkn7ijiOQsFRtpkmG9OzN2UDfmbDis09cAW/cc5MV3t/CpcQMpLtK/k0g6+u+QJrty3EDWVzlLKnbHHSV2j7+9nupa56rxgxpuLNKKqdhIk112cn+KCmj1Bwq4O4++uY5xg7szrLcukiZSHxUbabKuHdpwau9CnliwgQOHW+9vbuZ/sJP3t+7laq3ViDRIxUaOSdmgNlTuO8zMRa33pA1/emMdHYsL+djJOj2NSENUbOSYjOpRwNCSjjz02tq4o8Si6mA1zyzayKUn96dj25z8bbRITlGxkWNiZlwzcTAL1lWyaH3ru87N429vYN+hGq46TZvQRBpDxUaO2afGDaR9m0Ienrsm7ihZ5e48+OpqPjKgK6ce1y3uOCJ5QcVGjlmXdm34+CkDeHJBBZX7DsUdJ2vmrNzG+1v38vkzh+jSzyKNpGIjzXLtpMEcrK5tVYdBP/jqGnp1KtaBASJNoGIjzTKqXxdOG9Kdh+eupba25Z9RYM22vby0fAufPX0wbYsK444jkjdUbKTZPjdxMGu37+NvK7bGHSVyv39tDUUFxudOPy7uKCJ5RcVGmu3ik/rRt0s77vvbqrijRKrqYDV/fms9H/tIP3p30RV9RJpCxUaarbiogC+cfTyvrdrOgnWVcceJzGPz1lN1sJrrzzw+7igieUfFRjJi6oTj6Nq+DfeWvx93lEgcrqnlN6+s4tTjujF2kA53FmmqnCs2ZjbIzGab2VIzW2Jm/5yiTZmZ7TKzBeHtu3Fklf/VqW0R104azHNLN7FyS1XccTLuibc3sH7nfm4+d1jcUUTyUs4VG6Aa+Lq7jwYmAl8xs9Ep2r3i7mPD2w+yG1FSuf6MIbQtKuC+l1vW2k1NrXNP+fuc2L8Lk0t7xx1HJC/lXLFx943uPj+8vwd4FxgQbyppjJ6d2nL1+EE8/vYGNu7aH3ecjHn6nQpWb9vLP507TD/iFDlGlstXWzSzIcDLwEnuvjtheBnwGLAeqABudfclaaYxDZgGUFJSMm769OnRhs6AqqoqOnXK7eujpMu4dV8t33xlPxcMLuIzI9vGkOxIze3LWnf+9dX9OPDDM9tTEEGxuWXBLdTU1HD3uLszPu1My4dlE5Qz0yZPnjzP3cc3ayLunpM3oBMwD/hkinFdgE7h/UuAFY2Z5ogRIzwfzJ49O+4IDaov41cffdtH3D7TN1buz16gNJrbl39dVOGDv/m0P/H2+swESuGc353jY34+JrLpZ1I+LJvuyplpwFvezM/0nNuMBmBmbQjWXB5x978kj3f33e5eFd6fCbQxs15ZjilpfPX8EdS684sXV8QdpVncnbtfWsmQnh342Ed0ahqR5si5YmPBRvHfAu+6+8/StOkbtsPMJhC8ju3ZSyn1GdSjA/9w+mCmv7WO97fm75FpT72zkSUVu7n53OEUFebcv4pIXsnF/6AzgWuAcxMObb7EzG4ys5vCNlcCi81sIfBLYGq4qic54uZzh9G2qICfPf9e3FGOyYHDNdz512WM6teFT5yi41NEmivnLjHo7nOAevfCuvuvgF9lJ5Eci16d2vKFs4fyyxdX8KX1lZw8ML9+CPn7v69hQ+V+7vzUyRQW6Ag0kebKxTUbaSG+ePbx9OhYzI+fXR53lCbZsfcQv5q9ksmlJZw1XLsCRTJBxUYi07ldG74yeRhzVm5j1tLNccdptF++uIK9B6v59iWj4o4i0mKo2Eikrp00mBF9OnHHjCXsO1Qdd5wGrdpaxX/PXcvUCccxvE/nuOOItBgqNhKpNoUF/OgTH2FD5X5+8UJuHwrt7nz78UW0b1PIV88fEXcckRZFxUYid9qQHlw9fhD3z1nNsk27G35CTP74xjrmrtrBtz82ipLO8Z/9QKQlUbGRrLjt4pF0bd+Gb/9lUU5ePnrjrv38+8x3OeOEnkw9bVDccURaHBUbyYruHYu5/ZJRzP+gkkdeXxt3nCO4O7c/vpjq2lr+45Mn62SbIhFQsZGs+eSpA/joiBJ++My7ObU5bcbCCl5atoVbp5RyXM8OcccRaZFUbCRrzIy7Pj2GLu3b8JVH5ufE0Wlrtu3lO08s5pTjuvF5Xe5ZJDIqNpJVJZ3b8p9Xj2XVtr1878mUV4XImn2HqvnSw/MoLDB+OfUUnSlAJEJpi014LRmRjDtzWC9unjyMP89bz+Nvr48lg7vzzccW8d6WPfxy6ikM6qHNZyJRqm/N5gUzu83Mcu78aZL//vm84UwY0oNv/WURb63ZkfX5P/DqGp5aWMGtU0r56IiSrM9fpLWpr9icAvQB5pnZ2VnKI61EUWEB93zuVPp1bc8ND76Z1QMGnl+yiX+f+S5TRvfhy+eckLX5irRmaYuNu+9x968CNwBPmdliM3vHzBaZ2TvZiygtVa9ObXnohgm0Ly7k2t++wbod+yKf5wtLN/OVP8znpAFdueuqMRRoP41IVtR7gICZnQs8CNwPXBbeLg3/ijTboB4dePjG0zlYXcs1v32djbv2Rzavl5Zt5suPzGN0vy48dMMEOrdrE9m8RORI9R0g8CfgB8Bn3f1Wd1/t7mvrbtmLKC3diD6deeD609hWdYjLf/Uqb3+wM+PzeHbxRm56eD4j+3bhoRtPp2t7FRqRbKr3AAF3P8vdF2UtjbRa4wZ35y//eAbt2xRy9X1zeeLtDRmZbnWt8/2nlnDTf89nVP8uPHzjBBUakRjUt8/m/mwGERnRpzNPfOVMThnUjVseXcB3nljEzr2Hjnl6H2zfx4/mHuB3r67h+jOGMP1LE+nWoTiDiUWksXL2R51mdpGZLTezlWZ2W4rxbc3s0XD86/pdUMvQo2MxD994OjeceTx/eP0DzvnJbO5/ZRWHqmsbPY1Nuw5wx4wlXPDzv7FpXy33fm4cd1x+Im2LCiNMLiL1ycnf0JhZIfBr4AJgPfCmmc1w96UJzW4Edrr7MDObCtwJXJ39tJJpxUUFfPey0UydMIgfPvMuP3zmXX736houPqkv543qw2lDulNUeOT3pMp9h3j7g0qeX7qZx+atp8adT5wygImdtnPRSX1jeiUiUsfc6z/du5l1AL4OHOfuXzSz4UCpuz8dWSizScAd7n5h+PhbAO7+fxPaPBe2eS384ekmoMTreUGndOjgb0+YEFXsjKmsrKRbt25xx6hXNjNW7jvMxt0H2L3/MO5OYYFRXFRAgRmFBcah6loOHK4BgvOvlXRuS/9u7WlXVJAXfVk2dgHV1dXMWTw+7igNyof+BOXMNPvb3+a5e7MW0Mas2fwOmAdMCh9vAP4MRFZsgAHAuoTH64HT07Vx92oz2wX0BLYlNjKzacA0gJPatKGysjKqzBlTU1OT8zmznbFfO+jdtoB9h529h50ar6W2Fg7XQJFBSfsC2hVB+yKjwA5zoOowB2LIeSyqq6txPOdzQn70JyhnLmpMsTnB3a82s88AuPs+y6MLfrj7fcB9AKWlpd5twYKYEzWsvLycsrKyuGPUK66MPZvYPh/6sujBsuAb7q+0bGaKcmZYBj7yG3OAwCEzaw94ME87ATjY7DnXbwOQeLnEgeGwlG3CzWhdge0R5xIRkWPQmGLzPeBZYJCZPQK8CHwj0lTwJjDczI43s2JgKjAjqc0M4Lrw/pXAS/XtrxERkfg0uBnN3WeZ2XxgImDAP7v7tgae1izhPpibgeeAQuABd19iZj8A3nL3GcBvgYfNbCWwg6AgiYhIDkpbbMxspLsvM7NTw0Ebw7/HmdkgYEeUp61x95nAzKRh3024fwD4dFTzFxGRzKlvzebrwBeBu9KM72lmC939mszHEhGRliRtsXH3L4Z/J6drY2bPRxFKRERalvrO+vyNhPufThr37wDuPiW6aCIi0lLUdzRa4g73byWNuyiCLCIi0kLVV2wszf1Uj0VERNKqr9h4mvupHouIiKRV39FoY8xsN8FaTPvwPuHjdpEnExGRFqO+o9F08Q8REcmInL14moiItBwqNiIiEjkVGxERid9NCF8AAA2mSURBVJyKjYiIRE7FRkREIqdiIyIikVOxERGRyKnYiIhI5FRsREQkcio2IiISufrOjZZ1ZvYT4DLgEPA+8Hl3r0zRbg2wB6gBqt19fDZziohI0+Tams0s4CR3Pxl4j6Ovo5NosruPVaEREcl9OVVs3P15d68OH84FBsaZR0REMsPcc/PSNGb2FPCou/93inGrgZ0E19X5f+5+Xz3TmQZMAygpKRk3ffr0iBJnTlVVFZ06dYo7Rr3yISPkR85bFtxCTU0Nd4+7O+4oDcqH/gTlzLTJkyfPa+5WpKzvszGzF4C+KUbd7u5Phm1uB6qBR9JM5ix332BmvYFZZrbM3V9O1TAsRPcBlJaWellZWXNfQuTKy8vJ9Zz5kBHyI2e3Nd2orKzM+ZyQH/0JypmLsl5s3P38+sab2fXApcB5nma1y903hH+3mNnjwAQgZbEREZH45dQ+GzO7CPgGcLm770vTpqOZda67D0wBFmcvpYiINFVOFRvgV0Bngk1jC8zsXgAz629mM8M2fYA5ZrYQeAN4xt2fjSeuiIg0Rk79zsbdh6UZXgFcEt5fBYzJZi4REWmeXFuzERGRFkjFRkREIqdiIyIikVOxERGRyKnYiIhI5FRsREQkcio2IiISORUbERGJnIqNiIhETsVGREQip2IjIiKRU7EREZHIqdiIiEjkVGxERCRyKjYiIhI5FRsREYmcio2IiEROxUZERCKXc8XGzO4wsw1mtiC8XZKm3UVmttzMVprZbdnOKSIijVcUd4A0fu7uP0030swKgV8DFwDrgTfNbIa7L81WQBERabycW7NppAnASndf5e6HgD8BV8ScSURE0sjVNZubzexa4C3g6+6+M2n8AGBdwuP1wOmpJmRm04BpACUlJZSXl2c+bYZVVVXlfM58yAj5kbOyspKampqczwn50Z+gnLkolmJjZi8AfVOMuh34L+DfAA//3gXccKzzcvf7gPsASktLvays7FgnlTXl5eXkes58yAj5kbPbmm5UVlbmfE7Ij/4E5cxFsRQbdz+/Me3M7DfA0ylGbQAGJTweGA4TEZEclHP7bMysX8LDTwCLUzR7ExhuZsebWTEwFZiRjXwiItJ0ubjP5sdmNpZgM9oa4EsAZtYfuN/dL3H3ajO7GXgOKAQecPclcQUWEZH65Vyxcfdr0gyvAC5JeDwTmJmtXCIicuxybjOaiIi0PCo2IiISORUbERGJnIqNiIhETsVGREQip2IjIiKRU7EREZHIqdiIiEjkVGxERCRyKjYiIhI5FRsREYmcio2IiEROxUZERCKnYiMiIpFTsRERkcip2IiISORUbEREJHIqNiIiErmcuiy0mT0KlIYPuwGV7j42Rbs1wB6gBqh29/FZCykiIk2WU8XG3a+uu29mdwG76mk+2d23RZ9KRESaK6eKTR0zM+Aq4Ny4s4iISPPl6j6bs4HN7r4izXgHnjezeWY2LYu5RETkGJi7Z3eGZi8AfVOMut3dnwzb/Bew0t3vSjONAe6+wcx6A7OAf3L3l9O0nQZMAygpKRk3ffr0TLyMSFVVVdGpU6e4Y9QrHzJCfuS8ZcEt1NTUcPe4u+OO0qB86E9QzkybPHnyvObuG896sWmImRUBG4Bx7r6+Ee3vAKrc/acNtS0tLfXly5c3P2TEysvLKSsriztGvfIhI+RHzrIHy6isrGTBLQvijtKgfOhPUM5MM7NmF5tc3Ix2PrAsXaExs45m1rnuPjAFWJzFfCIi0kS5WGymAn9MHGBm/c1sZviwDzDHzBYCbwDPuPuzWc4oIiJNkHNHo7n79SmGVQCXhPdXAWOyHEtERJohF9dsRESkhVGxERGRyKnYiIhI5FRsREQkcio2IiISORUbERGJnIqNiIhETsVGREQip2IjIiKRU7EREZHIqdiIiEjkVGxERCRyKjYiIhI5FRsREYmcio2IiEROxUZERCKnYiMiIpFTsRERkcip2IiISORiKTZm9mkzW2JmtWY2Pmnct8xspZktN7ML0zz/eDN7PWz3qJkVZye5iIgci7jWbBYDnwReThxoZqOBqcCJwEXAPWZWmOL5dwI/d/dhwE7gxmjjiohIc8RSbNz9XXdfnmLUFcCf3P2gu68GVgITEhuYmQHnAv8TDvo98PEo84qISPMUxR0gyQBgbsLj9eGwRD2BSnevrqfNh8xsGjAtfHjQzBZnKGuUegHb4g7RgHzICHmU075qeZGTPOlPlDOTSps7gciKjZm9APRNMep2d38yqvkmc/f7gPvCTG+5+/gGnhK7fMiZDxlBOTNNOTMrn3I2dxqRFRt3P/8YnrYBGJTweGA4LNF2oJuZFYVrN6naiIhIDsm1Q59nAFPNrK2ZHQ8MB95IbODuDswGrgwHXQdkbU1JRESaLq5Dnz9hZuuBScAzZvYcgLsvAaYDS4Fnga+4e034nJlm1j+cxDeBr5nZSoJ9OL9t5Kzvy+DLiFI+5MyHjKCcmaacmdVqclqwoiAiIhKdXNuMJiIiLZCKjYiIRK7FFZt8OxVOOI8F4W2NmS1I026NmS0K2zX7MMRjyHmHmW1IyHpJmnYXhf270sxuiyHnT8xsmZm9Y2aPm1m3NO1i6c+G+ic8OObRcPzrZjYkW9kSMgwys9lmtjT8X/rnFG3KzGxXwvLw3WznDHPU+z5a4Jdhf75jZqdmOV9pQh8tMLPdZnZLUpvY+tLMHjCzLYm/PzSzHmY2y8xWhH+7p3nudWGbFWZ2XYMzc/cWdQNGEfwAqRwYnzB8NLAQaAscD7wPFKZ4/nRganj/XuDLWcx+F/DdNOPWAL1i7Nc7gFsbaFMY9utQoDjs79FZzjkFKArv3wncmSv92Zj+Af4RuDe8PxV4NIb3uh9wani/M/BeipxlwNPZztbU9xG4BPgrYMBE4PUYsxYCm4DBudKXwEeBU4HFCcN+DNwW3r8t1f8Q0ANYFf7tHt7vXt+8WtyajefpqXDCeV8F/DEb84vIBGClu69y90PAnwj6PWvc/Xn/37NLzCX4HVauaEz/XEGw3EGwHJ4XLhtZ4+4b3X1+eH8P8C71nKUjx10BPOSBuQS/0esXU5bzgPfdfW1M8z+Ku78M7EganLgMpvsMvBCY5e473H0nMIvgfJZptbhiU48BwLqEx80+FU6GnQ1sdvcVacY78LyZzQtPwROHm8NNEQ+kWbVuTB9n0w0E32pTiaM/G9M/H7YJl8NdBMtlLMLNeKcAr6cYPcnMFprZX83sxKwG+18NvY+5tExOJf2XyVzoyzp93H1jeH8T0CdFmyb3a66dG61RLEdOhdNYjcz7GepfqznL3TeYWW9glpktC7+VZCUn8F/AvxH8c/8bwSa/GzI5/8ZqTH+a2e1ANfBImslE3p/5zsw6AY8Bt7j77qTR8wk2B1WF+++eIPgRdrblxfsY7vu9HPhWitG50pdHcXc3s4z8PiYvi43n2alwGsprZkUEl1wYV880NoR/t5jZ4wSbZDL6T9XYfjWz3wBPpxjVmD5utkb05/XApcB5Hm5gTjGNyPszhcb0T12b9eFy0ZVgucwqM2tDUGgecfe/JI9PLD7uPtPM7jGzXu6e1ZNKNuJ9zMoy2QgXA/PdfXPyiFzpywSbzayfu28MNzluSdFmA8G+pjoDCfaTp9WaNqPl8qlwzgeWufv6VCPNrKOZda67T7ATPKtnr07azv2JNPN/ExhuwRF9xQSbDWZkI18dM7sI+AZwubvvS9Mmrv5sTP/MIFjuIFgOX0pXMKMS7iP6LfCuu/8sTZu+dfuSzGwCwWdJVotiI9/HGcC14VFpE4FdCZuIsintlotc6Mskictgus/A54ApZtY93KQ+JRyWXhxHQER5I/ggXA8cBDYDzyWMu53gaKDlwMUJw2cC/cP7QwmK0Ergz0DbLGR+ELgpaVh/YGZCpoXhbQnB5qJs9+vDwCLgnXBh7JecM3x8CcHRS+/HlHMlwbbkBeHt3uSccfZnqv4BfkBQHAHahcvdynA5HBpDH55FsLn0nYR+vAS4qW45BW4O+24hwYEYZ8SQM+X7mJTTgF+H/b2IhCNUs5izI0Hx6JowLCf6kqAAbgQOh5+bNxLsI3wRWAG8APQI244H7k947g3hcroS+HxD89LpakREJHKtaTOaiIjERMVGREQip2IjIiKRU7EREZHIqdiIiEjkVGxEImBmNUln+70tHH6/mY1uwnRmmNm1CY9/Y2b/EkVmkSjp0GeRCJhZlbt3ysB0hhD80PgUgjOX30twRubqep4mknO0ZiOSRWZWbuF1lsxsipm9ZmbzzezP4bnIjuDuawiu//5jgvPT3axCI/lIxUYkGu2TNqNdnTjSzHoB3wHOd/dTgbeAr6WZ1k8JTt++2HPwJJMijZGXJ+IUyQP73X1sPeMnEmwWezU8LVYx8FqaticTfDEcaWYF7l6b0aQiWaA1G5F4GMHFp8aGt9HufuNRjcwKgHuAzxGcq+rLWc4pkhEqNiLxmAucaWbD4MMzGI9I0e5LwAp3LyfYzPZNMyvJXkyRzFCxEYlG8j6b/0gY5+6+Fbge+KOZvUOwCW1k4gTCC4J9E7g1fFIF8J8EBwuI5BUd+iySRWa2iOByAqvjziKSTVqzEckSM5sFLFKhkdZIazYiIhI5rdmIiEjkVGxERCRyKjYiIhI5FRsREYmcio2IiETu/wPYF6iF6IXtfwAAAABJRU5ErkJggg==\n",
                  "text/plain": "<Figure size 432x288 with 1 Axes>"
                },
                "metadata": {
                  "needs_background": "light"
                }
              }
            ],
            "_view_module": "@jupyter-widgets/output",
            "_model_module_version": "1.0.0",
            "_view_count": null,
            "_view_module_version": "1.0.0",
            "layout": "IPY_MODEL_3c4df3c470fd40aa986f68d75103e425",
            "_model_module": "@jupyter-widgets/output"
          }
        },
        "4461ebeb20b74e27b1ab6de1b73030c9": {
          "model_module": "@jupyter-widgets/controls",
          "model_name": "SliderStyleModel",
          "model_module_version": "1.5.0",
          "state": {
            "_view_name": "StyleView",
            "handle_color": null,
            "_model_name": "SliderStyleModel",
            "description_width": "",
            "_view_module": "@jupyter-widgets/base",
            "_model_module_version": "1.5.0",
            "_view_count": null,
            "_view_module_version": "1.2.0",
            "_model_module": "@jupyter-widgets/controls"
          }
        },
        "8bfa428698f34b90bf8f3799d31553c3": {
          "model_module": "@jupyter-widgets/base",
          "model_name": "LayoutModel",
          "model_module_version": "1.2.0",
          "state": {
            "_view_name": "LayoutView",
            "grid_template_rows": null,
            "right": null,
            "justify_content": null,
            "_view_module": "@jupyter-widgets/base",
            "overflow": null,
            "_model_module_version": "1.2.0",
            "_view_count": null,
            "flex_flow": null,
            "width": null,
            "min_width": null,
            "border": null,
            "align_items": null,
            "bottom": null,
            "_model_module": "@jupyter-widgets/base",
            "top": null,
            "grid_column": null,
            "overflow_y": null,
            "overflow_x": null,
            "grid_auto_flow": null,
            "grid_area": null,
            "grid_template_columns": null,
            "flex": null,
            "_model_name": "LayoutModel",
            "justify_items": null,
            "grid_row": null,
            "max_height": null,
            "align_content": null,
            "visibility": null,
            "align_self": null,
            "height": null,
            "min_height": null,
            "padding": null,
            "grid_auto_rows": null,
            "grid_gap": null,
            "max_width": null,
            "order": null,
            "_view_module_version": "1.2.0",
            "grid_template_areas": null,
            "object_position": null,
            "object_fit": null,
            "grid_auto_columns": null,
            "margin": null,
            "display": null,
            "left": null
          }
        },
        "3c4df3c470fd40aa986f68d75103e425": {
          "model_module": "@jupyter-widgets/base",
          "model_name": "LayoutModel",
          "model_module_version": "1.2.0",
          "state": {
            "_view_name": "LayoutView",
            "grid_template_rows": null,
            "right": null,
            "justify_content": null,
            "_view_module": "@jupyter-widgets/base",
            "overflow": null,
            "_model_module_version": "1.2.0",
            "_view_count": null,
            "flex_flow": null,
            "width": null,
            "min_width": null,
            "border": null,
            "align_items": null,
            "bottom": null,
            "_model_module": "@jupyter-widgets/base",
            "top": null,
            "grid_column": null,
            "overflow_y": null,
            "overflow_x": null,
            "grid_auto_flow": null,
            "grid_area": null,
            "grid_template_columns": null,
            "flex": null,
            "_model_name": "LayoutModel",
            "justify_items": null,
            "grid_row": null,
            "max_height": null,
            "align_content": null,
            "visibility": null,
            "align_self": null,
            "height": null,
            "min_height": null,
            "padding": null,
            "grid_auto_rows": null,
            "grid_gap": null,
            "max_width": null,
            "order": null,
            "_view_module_version": "1.2.0",
            "grid_template_areas": null,
            "object_position": null,
            "object_fit": null,
            "grid_auto_columns": null,
            "margin": null,
            "display": null,
            "left": null
          }
        },
        "2f27e12fcc17477e9f3c459c8cbea425": {
          "model_module": "@jupyter-widgets/controls",
          "model_name": "VBoxModel",
          "model_module_version": "1.5.0",
          "state": {
            "_view_name": "VBoxView",
            "_dom_classes": [
              "widget-interact"
            ],
            "_model_name": "VBoxModel",
            "_view_module": "@jupyter-widgets/controls",
            "_model_module_version": "1.5.0",
            "_view_count": null,
            "_view_module_version": "1.5.0",
            "box_style": "",
            "layout": "IPY_MODEL_d7f6419c23f04c538cab44a8f0799f66",
            "_model_module": "@jupyter-widgets/controls",
            "children": [
              "IPY_MODEL_5db8f4e1f17042ebbfa551dc7a4dc94e",
              "IPY_MODEL_d4ec94f2066049c4b73bedb1cfbe4dd1"
            ]
          }
        },
        "d7f6419c23f04c538cab44a8f0799f66": {
          "model_module": "@jupyter-widgets/base",
          "model_name": "LayoutModel",
          "model_module_version": "1.2.0",
          "state": {
            "_view_name": "LayoutView",
            "grid_template_rows": null,
            "right": null,
            "justify_content": null,
            "_view_module": "@jupyter-widgets/base",
            "overflow": null,
            "_model_module_version": "1.2.0",
            "_view_count": null,
            "flex_flow": null,
            "width": null,
            "min_width": null,
            "border": null,
            "align_items": null,
            "bottom": null,
            "_model_module": "@jupyter-widgets/base",
            "top": null,
            "grid_column": null,
            "overflow_y": null,
            "overflow_x": null,
            "grid_auto_flow": null,
            "grid_area": null,
            "grid_template_columns": null,
            "flex": null,
            "_model_name": "LayoutModel",
            "justify_items": null,
            "grid_row": null,
            "max_height": null,
            "align_content": null,
            "visibility": null,
            "align_self": null,
            "height": null,
            "min_height": null,
            "padding": null,
            "grid_auto_rows": null,
            "grid_gap": null,
            "max_width": null,
            "order": null,
            "_view_module_version": "1.2.0",
            "grid_template_areas": null,
            "object_position": null,
            "object_fit": null,
            "grid_auto_columns": null,
            "margin": null,
            "display": null,
            "left": null
          }
        },
        "5db8f4e1f17042ebbfa551dc7a4dc94e": {
          "model_module": "@jupyter-widgets/controls",
          "model_name": "IntSliderModel",
          "model_module_version": "1.5.0",
          "state": {
            "_view_name": "IntSliderView",
            "style": "IPY_MODEL_0d6df731e3dc45f5ac19868ccbd825c5",
            "_dom_classes": [],
            "description": "c",
            "step": 1,
            "_model_name": "IntSliderModel",
            "orientation": "horizontal",
            "max": 5,
            "_view_module": "@jupyter-widgets/controls",
            "_model_module_version": "1.5.0",
            "value": 1,
            "_view_count": null,
            "disabled": false,
            "_view_module_version": "1.5.0",
            "min": -5,
            "continuous_update": true,
            "readout_format": "d",
            "description_tooltip": null,
            "readout": true,
            "_model_module": "@jupyter-widgets/controls",
            "layout": "IPY_MODEL_070e8a4fe46d4381932972ccdf456c00"
          }
        },
        "d4ec94f2066049c4b73bedb1cfbe4dd1": {
          "model_module": "@jupyter-widgets/output",
          "model_name": "OutputModel",
          "model_module_version": "1.0.0",
          "state": {
            "_view_name": "OutputView",
            "msg_id": "",
            "_dom_classes": [],
            "_model_name": "OutputModel",
            "outputs": [
              {
                "output_type": "display_data",
                "data": {
                  "image/png": "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\n",
                  "text/plain": "<Figure size 432x288 with 1 Axes>"
                },
                "metadata": {
                  "needs_background": "light"
                }
              }
            ],
            "_view_module": "@jupyter-widgets/output",
            "_model_module_version": "1.0.0",
            "_view_count": null,
            "_view_module_version": "1.0.0",
            "layout": "IPY_MODEL_876abed4906943da9c8f14ed2d95c3dd",
            "_model_module": "@jupyter-widgets/output"
          }
        },
        "0d6df731e3dc45f5ac19868ccbd825c5": {
          "model_module": "@jupyter-widgets/controls",
          "model_name": "SliderStyleModel",
          "model_module_version": "1.5.0",
          "state": {
            "_view_name": "StyleView",
            "handle_color": null,
            "_model_name": "SliderStyleModel",
            "description_width": "",
            "_view_module": "@jupyter-widgets/base",
            "_model_module_version": "1.5.0",
            "_view_count": null,
            "_view_module_version": "1.2.0",
            "_model_module": "@jupyter-widgets/controls"
          }
        },
        "070e8a4fe46d4381932972ccdf456c00": {
          "model_module": "@jupyter-widgets/base",
          "model_name": "LayoutModel",
          "model_module_version": "1.2.0",
          "state": {
            "_view_name": "LayoutView",
            "grid_template_rows": null,
            "right": null,
            "justify_content": null,
            "_view_module": "@jupyter-widgets/base",
            "overflow": null,
            "_model_module_version": "1.2.0",
            "_view_count": null,
            "flex_flow": null,
            "width": null,
            "min_width": null,
            "border": null,
            "align_items": null,
            "bottom": null,
            "_model_module": "@jupyter-widgets/base",
            "top": null,
            "grid_column": null,
            "overflow_y": null,
            "overflow_x": null,
            "grid_auto_flow": null,
            "grid_area": null,
            "grid_template_columns": null,
            "flex": null,
            "_model_name": "LayoutModel",
            "justify_items": null,
            "grid_row": null,
            "max_height": null,
            "align_content": null,
            "visibility": null,
            "align_self": null,
            "height": null,
            "min_height": null,
            "padding": null,
            "grid_auto_rows": null,
            "grid_gap": null,
            "max_width": null,
            "order": null,
            "_view_module_version": "1.2.0",
            "grid_template_areas": null,
            "object_position": null,
            "object_fit": null,
            "grid_auto_columns": null,
            "margin": null,
            "display": null,
            "left": null
          }
        },
        "876abed4906943da9c8f14ed2d95c3dd": {
          "model_module": "@jupyter-widgets/base",
          "model_name": "LayoutModel",
          "model_module_version": "1.2.0",
          "state": {
            "_view_name": "LayoutView",
            "grid_template_rows": null,
            "right": null,
            "justify_content": null,
            "_view_module": "@jupyter-widgets/base",
            "overflow": null,
            "_model_module_version": "1.2.0",
            "_view_count": null,
            "flex_flow": null,
            "width": null,
            "min_width": null,
            "border": null,
            "align_items": null,
            "bottom": null,
            "_model_module": "@jupyter-widgets/base",
            "top": null,
            "grid_column": null,
            "overflow_y": null,
            "overflow_x": null,
            "grid_auto_flow": null,
            "grid_area": null,
            "grid_template_columns": null,
            "flex": null,
            "_model_name": "LayoutModel",
            "justify_items": null,
            "grid_row": null,
            "max_height": null,
            "align_content": null,
            "visibility": null,
            "align_self": null,
            "height": null,
            "min_height": null,
            "padding": null,
            "grid_auto_rows": null,
            "grid_gap": null,
            "max_width": null,
            "order": null,
            "_view_module_version": "1.2.0",
            "grid_template_areas": null,
            "object_position": null,
            "object_fit": null,
            "grid_auto_columns": null,
            "margin": null,
            "display": null,
            "left": null
          }
        },
        "f99cb0653295455c8d742d7a8422742d": {
          "model_module": "@jupyter-widgets/controls",
          "model_name": "VBoxModel",
          "model_module_version": "1.5.0",
          "state": {
            "_view_name": "VBoxView",
            "_dom_classes": [
              "widget-interact"
            ],
            "_model_name": "VBoxModel",
            "_view_module": "@jupyter-widgets/controls",
            "_model_module_version": "1.5.0",
            "_view_count": null,
            "_view_module_version": "1.5.0",
            "box_style": "",
            "layout": "IPY_MODEL_e1e8dae571a24707ae2959447f2ccf1b",
            "_model_module": "@jupyter-widgets/controls",
            "children": [
              "IPY_MODEL_d4a9cc6f045c45f1ac61f0822b198912",
              "IPY_MODEL_f889494bde4f4d46b39c7651a77cf0da"
            ]
          }
        },
        "e1e8dae571a24707ae2959447f2ccf1b": {
          "model_module": "@jupyter-widgets/base",
          "model_name": "LayoutModel",
          "model_module_version": "1.2.0",
          "state": {
            "_view_name": "LayoutView",
            "grid_template_rows": null,
            "right": null,
            "justify_content": null,
            "_view_module": "@jupyter-widgets/base",
            "overflow": null,
            "_model_module_version": "1.2.0",
            "_view_count": null,
            "flex_flow": null,
            "width": null,
            "min_width": null,
            "border": null,
            "align_items": null,
            "bottom": null,
            "_model_module": "@jupyter-widgets/base",
            "top": null,
            "grid_column": null,
            "overflow_y": null,
            "overflow_x": null,
            "grid_auto_flow": null,
            "grid_area": null,
            "grid_template_columns": null,
            "flex": null,
            "_model_name": "LayoutModel",
            "justify_items": null,
            "grid_row": null,
            "max_height": null,
            "align_content": null,
            "visibility": null,
            "align_self": null,
            "height": null,
            "min_height": null,
            "padding": null,
            "grid_auto_rows": null,
            "grid_gap": null,
            "max_width": null,
            "order": null,
            "_view_module_version": "1.2.0",
            "grid_template_areas": null,
            "object_position": null,
            "object_fit": null,
            "grid_auto_columns": null,
            "margin": null,
            "display": null,
            "left": null
          }
        },
        "d4a9cc6f045c45f1ac61f0822b198912": {
          "model_module": "@jupyter-widgets/controls",
          "model_name": "FloatSliderModel",
          "model_module_version": "1.5.0",
          "state": {
            "_view_name": "FloatSliderView",
            "style": "IPY_MODEL_271f986be9094bff805fead98b4a45ab",
            "_dom_classes": [],
            "description": "c",
            "step": 0.1,
            "_model_name": "FloatSliderModel",
            "orientation": "horizontal",
            "max": 3.141592653589793,
            "_view_module": "@jupyter-widgets/controls",
            "_model_module_version": "1.5.0",
            "value": 0.25841,
            "_view_count": null,
            "disabled": false,
            "_view_module_version": "1.5.0",
            "min": -3.141592653589793,
            "continuous_update": true,
            "readout_format": ".2f",
            "description_tooltip": null,
            "readout": true,
            "_model_module": "@jupyter-widgets/controls",
            "layout": "IPY_MODEL_ed1bab1ba6654fc3adf77674ae34f992"
          }
        },
        "f889494bde4f4d46b39c7651a77cf0da": {
          "model_module": "@jupyter-widgets/output",
          "model_name": "OutputModel",
          "model_module_version": "1.0.0",
          "state": {
            "_view_name": "OutputView",
            "msg_id": "",
            "_dom_classes": [],
            "_model_name": "OutputModel",
            "outputs": [
              {
                "output_type": "display_data",
                "data": {
                  "image/png": "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\n",
                  "text/plain": "<Figure size 432x288 with 1 Axes>"
                },
                "metadata": {
                  "needs_background": "light"
                }
              }
            ],
            "_view_module": "@jupyter-widgets/output",
            "_model_module_version": "1.0.0",
            "_view_count": null,
            "_view_module_version": "1.0.0",
            "layout": "IPY_MODEL_5c97ea042cb245bd8fce4a57d688a7c7",
            "_model_module": "@jupyter-widgets/output"
          }
        },
        "271f986be9094bff805fead98b4a45ab": {
          "model_module": "@jupyter-widgets/controls",
          "model_name": "SliderStyleModel",
          "model_module_version": "1.5.0",
          "state": {
            "_view_name": "StyleView",
            "handle_color": null,
            "_model_name": "SliderStyleModel",
            "description_width": "",
            "_view_module": "@jupyter-widgets/base",
            "_model_module_version": "1.5.0",
            "_view_count": null,
            "_view_module_version": "1.2.0",
            "_model_module": "@jupyter-widgets/controls"
          }
        },
        "ed1bab1ba6654fc3adf77674ae34f992": {
          "model_module": "@jupyter-widgets/base",
          "model_name": "LayoutModel",
          "model_module_version": "1.2.0",
          "state": {
            "_view_name": "LayoutView",
            "grid_template_rows": null,
            "right": null,
            "justify_content": null,
            "_view_module": "@jupyter-widgets/base",
            "overflow": null,
            "_model_module_version": "1.2.0",
            "_view_count": null,
            "flex_flow": null,
            "width": null,
            "min_width": null,
            "border": null,
            "align_items": null,
            "bottom": null,
            "_model_module": "@jupyter-widgets/base",
            "top": null,
            "grid_column": null,
            "overflow_y": null,
            "overflow_x": null,
            "grid_auto_flow": null,
            "grid_area": null,
            "grid_template_columns": null,
            "flex": null,
            "_model_name": "LayoutModel",
            "justify_items": null,
            "grid_row": null,
            "max_height": null,
            "align_content": null,
            "visibility": null,
            "align_self": null,
            "height": null,
            "min_height": null,
            "padding": null,
            "grid_auto_rows": null,
            "grid_gap": null,
            "max_width": null,
            "order": null,
            "_view_module_version": "1.2.0",
            "grid_template_areas": null,
            "object_position": null,
            "object_fit": null,
            "grid_auto_columns": null,
            "margin": null,
            "display": null,
            "left": null
          }
        },
        "5c97ea042cb245bd8fce4a57d688a7c7": {
          "model_module": "@jupyter-widgets/base",
          "model_name": "LayoutModel",
          "model_module_version": "1.2.0",
          "state": {
            "_view_name": "LayoutView",
            "grid_template_rows": null,
            "right": null,
            "justify_content": null,
            "_view_module": "@jupyter-widgets/base",
            "overflow": null,
            "_model_module_version": "1.2.0",
            "_view_count": null,
            "flex_flow": null,
            "width": null,
            "min_width": null,
            "border": null,
            "align_items": null,
            "bottom": null,
            "_model_module": "@jupyter-widgets/base",
            "top": null,
            "grid_column": null,
            "overflow_y": null,
            "overflow_x": null,
            "grid_auto_flow": null,
            "grid_area": null,
            "grid_template_columns": null,
            "flex": null,
            "_model_name": "LayoutModel",
            "justify_items": null,
            "grid_row": null,
            "max_height": null,
            "align_content": null,
            "visibility": null,
            "align_self": null,
            "height": null,
            "min_height": null,
            "padding": null,
            "grid_auto_rows": null,
            "grid_gap": null,
            "max_width": null,
            "order": null,
            "_view_module_version": "1.2.0",
            "grid_template_areas": null,
            "object_position": null,
            "object_fit": null,
            "grid_auto_columns": null,
            "margin": null,
            "display": null,
            "left": null
          }
        },
        "bcb0d879e0ca4376ab8dcf9794198cd1": {
          "model_module": "@jupyter-widgets/controls",
          "model_name": "VBoxModel",
          "model_module_version": "1.5.0",
          "state": {
            "_view_name": "VBoxView",
            "_dom_classes": [
              "widget-interact"
            ],
            "_model_name": "VBoxModel",
            "_view_module": "@jupyter-widgets/controls",
            "_model_module_version": "1.5.0",
            "_view_count": null,
            "_view_module_version": "1.5.0",
            "box_style": "",
            "layout": "IPY_MODEL_4a6f28f7cd3345e2b4c7dab74a22bb9e",
            "_model_module": "@jupyter-widgets/controls",
            "children": [
              "IPY_MODEL_41422e940bef4259b3ffd29864f9f5e7",
              "IPY_MODEL_84a0d00a7b1f45df8f2326a9eb387e6f"
            ]
          }
        },
        "4a6f28f7cd3345e2b4c7dab74a22bb9e": {
          "model_module": "@jupyter-widgets/base",
          "model_name": "LayoutModel",
          "model_module_version": "1.2.0",
          "state": {
            "_view_name": "LayoutView",
            "grid_template_rows": null,
            "right": null,
            "justify_content": null,
            "_view_module": "@jupyter-widgets/base",
            "overflow": null,
            "_model_module_version": "1.2.0",
            "_view_count": null,
            "flex_flow": null,
            "width": null,
            "min_width": null,
            "border": null,
            "align_items": null,
            "bottom": null,
            "_model_module": "@jupyter-widgets/base",
            "top": null,
            "grid_column": null,
            "overflow_y": null,
            "overflow_x": null,
            "grid_auto_flow": null,
            "grid_area": null,
            "grid_template_columns": null,
            "flex": null,
            "_model_name": "LayoutModel",
            "justify_items": null,
            "grid_row": null,
            "max_height": null,
            "align_content": null,
            "visibility": null,
            "align_self": null,
            "height": null,
            "min_height": null,
            "padding": null,
            "grid_auto_rows": null,
            "grid_gap": null,
            "max_width": null,
            "order": null,
            "_view_module_version": "1.2.0",
            "grid_template_areas": null,
            "object_position": null,
            "object_fit": null,
            "grid_auto_columns": null,
            "margin": null,
            "display": null,
            "left": null
          }
        },
        "41422e940bef4259b3ffd29864f9f5e7": {
          "model_module": "@jupyter-widgets/controls",
          "model_name": "FloatSliderModel",
          "model_module_version": "1.5.0",
          "state": {
            "_view_name": "FloatSliderView",
            "style": "IPY_MODEL_6a08b2ea46ce4f579b7afc646d09c5ab",
            "_dom_classes": [],
            "description": "c",
            "step": 0.1,
            "_model_name": "FloatSliderModel",
            "orientation": "horizontal",
            "max": 5.01,
            "_view_module": "@jupyter-widgets/controls",
            "_model_module_version": "1.5.0",
            "value": 0.49,
            "_view_count": null,
            "disabled": false,
            "_view_module_version": "1.5.0",
            "min": -5.01,
            "continuous_update": true,
            "readout_format": ".2f",
            "description_tooltip": null,
            "readout": true,
            "_model_module": "@jupyter-widgets/controls",
            "layout": "IPY_MODEL_de19f5fe763e45448d093e6dc9becca1"
          }
        },
        "84a0d00a7b1f45df8f2326a9eb387e6f": {
          "model_module": "@jupyter-widgets/output",
          "model_name": "OutputModel",
          "model_module_version": "1.0.0",
          "state": {
            "_view_name": "OutputView",
            "msg_id": "",
            "_dom_classes": [],
            "_model_name": "OutputModel",
            "outputs": [
              {
                "output_type": "display_data",
                "data": {
                  "image/png": "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\n",
                  "text/plain": "<Figure size 432x288 with 1 Axes>"
                },
                "metadata": {
                  "needs_background": "light"
                }
              }
            ],
            "_view_module": "@jupyter-widgets/output",
            "_model_module_version": "1.0.0",
            "_view_count": null,
            "_view_module_version": "1.0.0",
            "layout": "IPY_MODEL_a5cadc42e5f34f498cffd57ddb554db2",
            "_model_module": "@jupyter-widgets/output"
          }
        },
        "6a08b2ea46ce4f579b7afc646d09c5ab": {
          "model_module": "@jupyter-widgets/controls",
          "model_name": "SliderStyleModel",
          "model_module_version": "1.5.0",
          "state": {
            "_view_name": "StyleView",
            "handle_color": null,
            "_model_name": "SliderStyleModel",
            "description_width": "",
            "_view_module": "@jupyter-widgets/base",
            "_model_module_version": "1.5.0",
            "_view_count": null,
            "_view_module_version": "1.2.0",
            "_model_module": "@jupyter-widgets/controls"
          }
        },
        "de19f5fe763e45448d093e6dc9becca1": {
          "model_module": "@jupyter-widgets/base",
          "model_name": "LayoutModel",
          "model_module_version": "1.2.0",
          "state": {
            "_view_name": "LayoutView",
            "grid_template_rows": null,
            "right": null,
            "justify_content": null,
            "_view_module": "@jupyter-widgets/base",
            "overflow": null,
            "_model_module_version": "1.2.0",
            "_view_count": null,
            "flex_flow": null,
            "width": null,
            "min_width": null,
            "border": null,
            "align_items": null,
            "bottom": null,
            "_model_module": "@jupyter-widgets/base",
            "top": null,
            "grid_column": null,
            "overflow_y": null,
            "overflow_x": null,
            "grid_auto_flow": null,
            "grid_area": null,
            "grid_template_columns": null,
            "flex": null,
            "_model_name": "LayoutModel",
            "justify_items": null,
            "grid_row": null,
            "max_height": null,
            "align_content": null,
            "visibility": null,
            "align_self": null,
            "height": null,
            "min_height": null,
            "padding": null,
            "grid_auto_rows": null,
            "grid_gap": null,
            "max_width": null,
            "order": null,
            "_view_module_version": "1.2.0",
            "grid_template_areas": null,
            "object_position": null,
            "object_fit": null,
            "grid_auto_columns": null,
            "margin": null,
            "display": null,
            "left": null
          }
        },
        "a5cadc42e5f34f498cffd57ddb554db2": {
          "model_module": "@jupyter-widgets/base",
          "model_name": "LayoutModel",
          "model_module_version": "1.2.0",
          "state": {
            "_view_name": "LayoutView",
            "grid_template_rows": null,
            "right": null,
            "justify_content": null,
            "_view_module": "@jupyter-widgets/base",
            "overflow": null,
            "_model_module_version": "1.2.0",
            "_view_count": null,
            "flex_flow": null,
            "width": null,
            "min_width": null,
            "border": null,
            "align_items": null,
            "bottom": null,
            "_model_module": "@jupyter-widgets/base",
            "top": null,
            "grid_column": null,
            "overflow_y": null,
            "overflow_x": null,
            "grid_auto_flow": null,
            "grid_area": null,
            "grid_template_columns": null,
            "flex": null,
            "_model_name": "LayoutModel",
            "justify_items": null,
            "grid_row": null,
            "max_height": null,
            "align_content": null,
            "visibility": null,
            "align_self": null,
            "height": null,
            "min_height": null,
            "padding": null,
            "grid_auto_rows": null,
            "grid_gap": null,
            "max_width": null,
            "order": null,
            "_view_module_version": "1.2.0",
            "grid_template_areas": null,
            "object_position": null,
            "object_fit": null,
            "grid_auto_columns": null,
            "margin": null,
            "display": null,
            "left": null
          }
        },
        "26d49510df484a3bb790d3086b26c47c": {
          "model_module": "@jupyter-widgets/controls",
          "model_name": "VBoxModel",
          "model_module_version": "1.5.0",
          "state": {
            "_view_name": "VBoxView",
            "_dom_classes": [
              "widget-interact"
            ],
            "_model_name": "VBoxModel",
            "_view_module": "@jupyter-widgets/controls",
            "_model_module_version": "1.5.0",
            "_view_count": null,
            "_view_module_version": "1.5.0",
            "box_style": "",
            "layout": "IPY_MODEL_62b50cfed81c40259fcf0d27d52328a0",
            "_model_module": "@jupyter-widgets/controls",
            "children": [
              "IPY_MODEL_07817745dd0941b9bcd3d837249b5689",
              "IPY_MODEL_e07e5d0d51fa4ab2be252b52faddd7e7"
            ]
          }
        },
        "62b50cfed81c40259fcf0d27d52328a0": {
          "model_module": "@jupyter-widgets/base",
          "model_name": "LayoutModel",
          "model_module_version": "1.2.0",
          "state": {
            "_view_name": "LayoutView",
            "grid_template_rows": null,
            "right": null,
            "justify_content": null,
            "_view_module": "@jupyter-widgets/base",
            "overflow": null,
            "_model_module_version": "1.2.0",
            "_view_count": null,
            "flex_flow": null,
            "width": null,
            "min_width": null,
            "border": null,
            "align_items": null,
            "bottom": null,
            "_model_module": "@jupyter-widgets/base",
            "top": null,
            "grid_column": null,
            "overflow_y": null,
            "overflow_x": null,
            "grid_auto_flow": null,
            "grid_area": null,
            "grid_template_columns": null,
            "flex": null,
            "_model_name": "LayoutModel",
            "justify_items": null,
            "grid_row": null,
            "max_height": null,
            "align_content": null,
            "visibility": null,
            "align_self": null,
            "height": null,
            "min_height": null,
            "padding": null,
            "grid_auto_rows": null,
            "grid_gap": null,
            "max_width": null,
            "order": null,
            "_view_module_version": "1.2.0",
            "grid_template_areas": null,
            "object_position": null,
            "object_fit": null,
            "grid_auto_columns": null,
            "margin": null,
            "display": null,
            "left": null
          }
        },
        "07817745dd0941b9bcd3d837249b5689": {
          "model_module": "@jupyter-widgets/controls",
          "model_name": "IntSliderModel",
          "model_module_version": "1.5.0",
          "state": {
            "_view_name": "IntSliderView",
            "style": "IPY_MODEL_81ce1fd7a21b407e9656f264eb7c91ec",
            "_dom_classes": [],
            "description": "a",
            "step": 1,
            "_model_name": "IntSliderModel",
            "orientation": "horizontal",
            "max": 1,
            "_view_module": "@jupyter-widgets/controls",
            "_model_module_version": "1.5.0",
            "value": 0,
            "_view_count": null,
            "disabled": false,
            "_view_module_version": "1.5.0",
            "min": -1,
            "continuous_update": true,
            "readout_format": "d",
            "description_tooltip": null,
            "readout": true,
            "_model_module": "@jupyter-widgets/controls",
            "layout": "IPY_MODEL_f18bc72e9ff14417add00fb9e6d3205c"
          }
        },
        "e07e5d0d51fa4ab2be252b52faddd7e7": {
          "model_module": "@jupyter-widgets/output",
          "model_name": "OutputModel",
          "model_module_version": "1.0.0",
          "state": {
            "_view_name": "OutputView",
            "msg_id": "",
            "_dom_classes": [],
            "_model_name": "OutputModel",
            "outputs": [
              {
                "output_type": "display_data",
                "data": {
                  "image/png": "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\n",
                  "text/plain": "<Figure size 432x288 with 1 Axes>"
                },
                "metadata": {
                  "needs_background": "light"
                }
              }
            ],
            "_view_module": "@jupyter-widgets/output",
            "_model_module_version": "1.0.0",
            "_view_count": null,
            "_view_module_version": "1.0.0",
            "layout": "IPY_MODEL_4cb4a8a32e9a4069a0e6de21defda928",
            "_model_module": "@jupyter-widgets/output"
          }
        },
        "81ce1fd7a21b407e9656f264eb7c91ec": {
          "model_module": "@jupyter-widgets/controls",
          "model_name": "SliderStyleModel",
          "model_module_version": "1.5.0",
          "state": {
            "_view_name": "StyleView",
            "handle_color": null,
            "_model_name": "SliderStyleModel",
            "description_width": "",
            "_view_module": "@jupyter-widgets/base",
            "_model_module_version": "1.5.0",
            "_view_count": null,
            "_view_module_version": "1.2.0",
            "_model_module": "@jupyter-widgets/controls"
          }
        },
        "f18bc72e9ff14417add00fb9e6d3205c": {
          "model_module": "@jupyter-widgets/base",
          "model_name": "LayoutModel",
          "model_module_version": "1.2.0",
          "state": {
            "_view_name": "LayoutView",
            "grid_template_rows": null,
            "right": null,
            "justify_content": null,
            "_view_module": "@jupyter-widgets/base",
            "overflow": null,
            "_model_module_version": "1.2.0",
            "_view_count": null,
            "flex_flow": null,
            "width": null,
            "min_width": null,
            "border": null,
            "align_items": null,
            "bottom": null,
            "_model_module": "@jupyter-widgets/base",
            "top": null,
            "grid_column": null,
            "overflow_y": null,
            "overflow_x": null,
            "grid_auto_flow": null,
            "grid_area": null,
            "grid_template_columns": null,
            "flex": null,
            "_model_name": "LayoutModel",
            "justify_items": null,
            "grid_row": null,
            "max_height": null,
            "align_content": null,
            "visibility": null,
            "align_self": null,
            "height": null,
            "min_height": null,
            "padding": null,
            "grid_auto_rows": null,
            "grid_gap": null,
            "max_width": null,
            "order": null,
            "_view_module_version": "1.2.0",
            "grid_template_areas": null,
            "object_position": null,
            "object_fit": null,
            "grid_auto_columns": null,
            "margin": null,
            "display": null,
            "left": null
          }
        },
        "4cb4a8a32e9a4069a0e6de21defda928": {
          "model_module": "@jupyter-widgets/base",
          "model_name": "LayoutModel",
          "model_module_version": "1.2.0",
          "state": {
            "_view_name": "LayoutView",
            "grid_template_rows": null,
            "right": null,
            "justify_content": null,
            "_view_module": "@jupyter-widgets/base",
            "overflow": null,
            "_model_module_version": "1.2.0",
            "_view_count": null,
            "flex_flow": null,
            "width": null,
            "min_width": null,
            "border": null,
            "align_items": null,
            "bottom": null,
            "_model_module": "@jupyter-widgets/base",
            "top": null,
            "grid_column": null,
            "overflow_y": null,
            "overflow_x": null,
            "grid_auto_flow": null,
            "grid_area": null,
            "grid_template_columns": null,
            "flex": null,
            "_model_name": "LayoutModel",
            "justify_items": null,
            "grid_row": null,
            "max_height": null,
            "align_content": null,
            "visibility": null,
            "align_self": null,
            "height": null,
            "min_height": null,
            "padding": null,
            "grid_auto_rows": null,
            "grid_gap": null,
            "max_width": null,
            "order": null,
            "_view_module_version": "1.2.0",
            "grid_template_areas": null,
            "object_position": null,
            "object_fit": null,
            "grid_auto_columns": null,
            "margin": null,
            "display": null,
            "left": null
          }
        },
        "ca69540da2a841cbb06a7722c101ee35": {
          "model_module": "@jupyter-widgets/controls",
          "model_name": "VBoxModel",
          "model_module_version": "1.5.0",
          "state": {
            "_view_name": "VBoxView",
            "_dom_classes": [
              "widget-interact"
            ],
            "_model_name": "VBoxModel",
            "_view_module": "@jupyter-widgets/controls",
            "_model_module_version": "1.5.0",
            "_view_count": null,
            "_view_module_version": "1.5.0",
            "box_style": "",
            "layout": "IPY_MODEL_3ede4d31141640c7807513588282bfd9",
            "_model_module": "@jupyter-widgets/controls",
            "children": [
              "IPY_MODEL_d15e937c8593411d803edca9b2ca6548",
              "IPY_MODEL_5142c8c2890e4f2c88733f3ea10aa51c"
            ]
          }
        },
        "3ede4d31141640c7807513588282bfd9": {
          "model_module": "@jupyter-widgets/base",
          "model_name": "LayoutModel",
          "model_module_version": "1.2.0",
          "state": {
            "_view_name": "LayoutView",
            "grid_template_rows": null,
            "right": null,
            "justify_content": null,
            "_view_module": "@jupyter-widgets/base",
            "overflow": null,
            "_model_module_version": "1.2.0",
            "_view_count": null,
            "flex_flow": null,
            "width": null,
            "min_width": null,
            "border": null,
            "align_items": null,
            "bottom": null,
            "_model_module": "@jupyter-widgets/base",
            "top": null,
            "grid_column": null,
            "overflow_y": null,
            "overflow_x": null,
            "grid_auto_flow": null,
            "grid_area": null,
            "grid_template_columns": null,
            "flex": null,
            "_model_name": "LayoutModel",
            "justify_items": null,
            "grid_row": null,
            "max_height": null,
            "align_content": null,
            "visibility": null,
            "align_self": null,
            "height": null,
            "min_height": null,
            "padding": null,
            "grid_auto_rows": null,
            "grid_gap": null,
            "max_width": null,
            "order": null,
            "_view_module_version": "1.2.0",
            "grid_template_areas": null,
            "object_position": null,
            "object_fit": null,
            "grid_auto_columns": null,
            "margin": null,
            "display": null,
            "left": null
          }
        },
        "d15e937c8593411d803edca9b2ca6548": {
          "model_module": "@jupyter-widgets/controls",
          "model_name": "IntSliderModel",
          "model_module_version": "1.5.0",
          "state": {
            "_view_name": "IntSliderView",
            "style": "IPY_MODEL_9651edf533a644658a82a12b9c3bb0ce",
            "_dom_classes": [],
            "description": "b",
            "step": 1,
            "_model_name": "IntSliderModel",
            "orientation": "horizontal",
            "max": 1,
            "_view_module": "@jupyter-widgets/controls",
            "_model_module_version": "1.5.0",
            "value": -1,
            "_view_count": null,
            "disabled": false,
            "_view_module_version": "1.5.0",
            "min": -1,
            "continuous_update": true,
            "readout_format": "d",
            "description_tooltip": null,
            "readout": true,
            "_model_module": "@jupyter-widgets/controls",
            "layout": "IPY_MODEL_a7e765bcc3674f7ba0a6730ae17201c1"
          }
        },
        "5142c8c2890e4f2c88733f3ea10aa51c": {
          "model_module": "@jupyter-widgets/output",
          "model_name": "OutputModel",
          "model_module_version": "1.0.0",
          "state": {
            "_view_name": "OutputView",
            "msg_id": "",
            "_dom_classes": [],
            "_model_name": "OutputModel",
            "outputs": [
              {
                "output_type": "display_data",
                "data": {
                  "image/png": "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\n",
                  "text/plain": "<Figure size 432x288 with 1 Axes>"
                },
                "metadata": {
                  "needs_background": "light"
                }
              }
            ],
            "_view_module": "@jupyter-widgets/output",
            "_model_module_version": "1.0.0",
            "_view_count": null,
            "_view_module_version": "1.0.0",
            "layout": "IPY_MODEL_15ae3034b2d341a69280c8dd1cf14605",
            "_model_module": "@jupyter-widgets/output"
          }
        },
        "9651edf533a644658a82a12b9c3bb0ce": {
          "model_module": "@jupyter-widgets/controls",
          "model_name": "SliderStyleModel",
          "model_module_version": "1.5.0",
          "state": {
            "_view_name": "StyleView",
            "handle_color": null,
            "_model_name": "SliderStyleModel",
            "description_width": "",
            "_view_module": "@jupyter-widgets/base",
            "_model_module_version": "1.5.0",
            "_view_count": null,
            "_view_module_version": "1.2.0",
            "_model_module": "@jupyter-widgets/controls"
          }
        },
        "a7e765bcc3674f7ba0a6730ae17201c1": {
          "model_module": "@jupyter-widgets/base",
          "model_name": "LayoutModel",
          "model_module_version": "1.2.0",
          "state": {
            "_view_name": "LayoutView",
            "grid_template_rows": null,
            "right": null,
            "justify_content": null,
            "_view_module": "@jupyter-widgets/base",
            "overflow": null,
            "_model_module_version": "1.2.0",
            "_view_count": null,
            "flex_flow": null,
            "width": null,
            "min_width": null,
            "border": null,
            "align_items": null,
            "bottom": null,
            "_model_module": "@jupyter-widgets/base",
            "top": null,
            "grid_column": null,
            "overflow_y": null,
            "overflow_x": null,
            "grid_auto_flow": null,
            "grid_area": null,
            "grid_template_columns": null,
            "flex": null,
            "_model_name": "LayoutModel",
            "justify_items": null,
            "grid_row": null,
            "max_height": null,
            "align_content": null,
            "visibility": null,
            "align_self": null,
            "height": null,
            "min_height": null,
            "padding": null,
            "grid_auto_rows": null,
            "grid_gap": null,
            "max_width": null,
            "order": null,
            "_view_module_version": "1.2.0",
            "grid_template_areas": null,
            "object_position": null,
            "object_fit": null,
            "grid_auto_columns": null,
            "margin": null,
            "display": null,
            "left": null
          }
        },
        "15ae3034b2d341a69280c8dd1cf14605": {
          "model_module": "@jupyter-widgets/base",
          "model_name": "LayoutModel",
          "model_module_version": "1.2.0",
          "state": {
            "_view_name": "LayoutView",
            "grid_template_rows": null,
            "right": null,
            "justify_content": null,
            "_view_module": "@jupyter-widgets/base",
            "overflow": null,
            "_model_module_version": "1.2.0",
            "_view_count": null,
            "flex_flow": null,
            "width": null,
            "min_width": null,
            "border": null,
            "align_items": null,
            "bottom": null,
            "_model_module": "@jupyter-widgets/base",
            "top": null,
            "grid_column": null,
            "overflow_y": null,
            "overflow_x": null,
            "grid_auto_flow": null,
            "grid_area": null,
            "grid_template_columns": null,
            "flex": null,
            "_model_name": "LayoutModel",
            "justify_items": null,
            "grid_row": null,
            "max_height": null,
            "align_content": null,
            "visibility": null,
            "align_self": null,
            "height": null,
            "min_height": null,
            "padding": null,
            "grid_auto_rows": null,
            "grid_gap": null,
            "max_width": null,
            "order": null,
            "_view_module_version": "1.2.0",
            "grid_template_areas": null,
            "object_position": null,
            "object_fit": null,
            "grid_auto_columns": null,
            "margin": null,
            "display": null,
            "left": null
          }
        }
      }
    }
  },
  "cells": [
    {
      "cell_type": "markdown",
      "metadata": {
        "id": "view-in-github",
        "colab_type": "text"
      },
      "source": [
        "<a href=\"https://colab.research.google.com/github/MichaelAcostaDeveloper/GoogleColabProjects/blob/main/Manipulaci%C3%B3nDeFunciones.ipynb\" target=\"_parent\"><img src=\"https://colab.research.google.com/assets/colab-badge.svg\" alt=\"Open In Colab\"/></a>"
      ]
    },
    {
      "cell_type": "code",
      "execution_count": null,
      "metadata": {
        "id": "qLNj12DsV5lw"
      },
      "outputs": [],
      "source": [
        "import  numpy as np\n",
        "import matplotlib.pyplot as plt\n",
        "from IPython.html.widgets import interact"
      ]
    },
    {
      "cell_type": "markdown",
      "source": [
        "Dibujo de puntos en el plano cartesiano"
      ],
      "metadata": {
        "id": "il6ZvNeG-Wef"
      }
    },
    {
      "cell_type": "code",
      "source": [
        "def m(x):\n",
        "  return 3*x+1\n",
        "\n",
        "x=np.linspace(-10,10,num=10)\n",
        "y=m(x)\n",
        "#dibujo de plano cartesiano:\n",
        "plt.show()\n",
        "plt.scatter(x, y)\n",
        "plt.axhline(y=0,color='red')\n",
        "plt.axvline(x=0,color='green')\n",
        "plt.xlabel(\"Eje X\")\n",
        "plt.ylabel(\"Eje Y\")\n",
        "plt.title(\"TRANSFORMACION DE FUNCIONES\")"
      ],
      "metadata": {
        "colab": {
          "base_uri": "https://localhost:8080/",
          "height": 312
        },
        "id": "k4xjytL1-dX3",
        "outputId": "2ab05c48-9c04-4c2c-d472-74a081bc0cd8"
      },
      "execution_count": null,
      "outputs": [
        {
          "output_type": "execute_result",
          "data": {
            "text/plain": [
              "Text(0.5, 1.0, 'TRANSFORMACION DE FUNCIONES')"
            ]
          },
          "metadata": {},
          "execution_count": 2
        },
        {
          "output_type": "display_data",
          "data": {
            "image/png": "[encoded data removed]",
            "text/plain": [
              "<Figure size 432x288 with 1 Axes>"
            ]
          },
          "metadata": {
            "needs_background": "light"
          }
        }
      ]
    },
    {
      "cell_type": "markdown",
      "source": [
        "Desplazamientos verticales y horizontales:\n",
        "1. $y=f(x)+c \\to$ se desplaza c unidades hacia arriba.\n",
        "2. $y=f(x)-c \\to$ se desplaza c unidades hacia abajo.\n",
        "3. $y=f(x+k) \\to$ se desplaza k unidades hacia la izquierda.\n",
        "4. $y=f(x-k) \\to$ se desplaza k unidades hacia la derecha."
      ],
      "metadata": {
        "id": "h4gwkqJZWW8b"
      }
    },
    {
      "cell_type": "code",
      "source": [
        "#Creación de una función:\n",
        "def f(x):\n",
        "  return x**2\n",
        "\n",
        "def pinta_funcion(k):\n",
        "  x=np.linspace(-10,10,num=100)\n",
        "  y=f(x+k)\n",
        "  plt.plot(x,y)\n",
        "  plt.grid() #creacion de la grilla (cuadricula)\n",
        "  plt.axhline(y=0, color='red') #traza el eje x\n",
        "  plt.axvline(x=0, color='green') #traza el eje y\n",
        "  plt.xlim(-10,10) #limita al eje x\n",
        "  plt.ylim(-10,10)   #limita al eje y\n",
        "\n",
        "  plt.xlabel(\"Eje X\")\n",
        "  plt.ylabel(\"Eje Y\")\n",
        "  plt.title(\"TRANSFORMACION DE FUNCIONES\")"
      ],
      "metadata": {
        "id": "HSVt3krcXMcb"
      },
      "execution_count": null,
      "outputs": []
    },
    {
      "cell_type": "code",
      "source": [
        "interact(pinta_funcion,k=(-5,5))"
      ],
      "metadata": {
        "colab": {
          "base_uri": "https://localhost:8080/",
          "height": 344,
          "referenced_widgets": [
            "d3bea73abafa49f4ad48207d183ae8d8",
            "97b6cdff0388454e8b3a2477526b966f",
            "dbedaec2bc65400988728bcf31cd50d6",
            "cb18796c85714fd49f5eff5a51588c3d",
            "4461ebeb20b74e27b1ab6de1b73030c9",
            "8bfa428698f34b90bf8f3799d31553c3",
            "3c4df3c470fd40aa986f68d75103e425"
          ]
        },
        "id": "5OOjAMPdpm-_",
        "outputId": "9859d36e-64dd-490d-e6db-c00ac9a25622"
      },
      "execution_count": null,
      "outputs": [
        {
          "output_type": "display_data",
          "data": {
            "application/vnd.jupyter.widget-view+json": {
              "model_id": "d3bea73abafa49f4ad48207d183ae8d8",
              "version_minor": 0,
              "version_major": 2
            },
            "text/plain": [
              "interactive(children=(IntSlider(value=0, description='k', max=5, min=-5), Output()), _dom_classes=('widget-int…"
            ]
          },
          "metadata": {}
        },
        {
          "output_type": "execute_result",
          "data": {
            "text/plain": [
              "<function __main__.pinta_funcion>"
            ]
          },
          "metadata": {},
          "execution_count": 6
        }
      ]
    },
    {
      "cell_type": "code",
      "source": [
        "#creacion de la funcion\n",
        "def f(x,a):\n",
        "  return a**x\n",
        "def dibujo_funcion_exponencial(c):\n",
        "  #PASO 1: creacion del dominio\n",
        "  x=np.linspace(-20, 20, num=1000)\n",
        "\n",
        "  #PASO 2: creacion del rango\n",
        "  y=f(x,2)+c\n",
        "\n",
        "  #PASO 3: creacion del plano cartesiano\n",
        "  plt.axhline(y=0, color='red')\n",
        "  plt.axvline(x=0, color='green')\n",
        "\n",
        "  #PASO 4: creacion de la grilla\n",
        "  plt.grid(linestyle=':', linewidth=2)\n",
        "  plt.xlim(-20,20)\n",
        "  plt.ylim(-20,20)\n",
        "\n",
        "  #PASO 5: creacion de titulos\n",
        "  plt.xlabel(\"Eje X\")\n",
        "  plt.ylabel(\"Eje Y\")\n",
        "  plt.title(\"TRANSFORMACION DE FUNCIONES\")\n",
        "\n",
        "  #PASO 6: dibujo de la funcion\n",
        "  plt.plot(x,y)\n"
      ],
      "metadata": {
        "id": "PSdxTFph6PFo"
      },
      "execution_count": null,
      "outputs": []
    },
    {
      "cell_type": "code",
      "source": [
        "dibujo_funcion_exponencial(3)\n"
      ],
      "metadata": {
        "colab": {
          "base_uri": "https://localhost:8080/",
          "height": 295
        },
        "id": "irYYpnLj83Hz",
        "outputId": "abe3c9e6-1bea-4aa4-e802-14202c5e05e5"
      },
      "execution_count": null,
      "outputs": [
        {
          "output_type": "display_data",
          "data": {
            "image/png": "[encoded data removed]",
            "text/plain": [
              "<Figure size 432x288 with 1 Axes>"
            ]
          },
          "metadata": {
            "needs_background": "light"
          }
        }
      ]
    },
    {
      "cell_type": "code",
      "source": [
        "interact(dibujo_funcion_exponencial,c=(-5,5))"
      ],
      "metadata": {
        "colab": {
          "base_uri": "https://localhost:8080/",
          "height": 344,
          "referenced_widgets": [
            "2f27e12fcc17477e9f3c459c8cbea425",
            "d7f6419c23f04c538cab44a8f0799f66",
            "5db8f4e1f17042ebbfa551dc7a4dc94e",
            "d4ec94f2066049c4b73bedb1cfbe4dd1",
            "0d6df731e3dc45f5ac19868ccbd825c5",
            "070e8a4fe46d4381932972ccdf456c00",
            "876abed4906943da9c8f14ed2d95c3dd"
          ]
        },
        "id": "57ixJpXw9MjD",
        "outputId": "fbf2dd2a-0379-4df5-9c35-f9c8b81a78b9"
      },
      "execution_count": null,
      "outputs": [
        {
          "output_type": "display_data",
          "data": {
            "application/vnd.jupyter.widget-view+json": {
              "model_id": "2f27e12fcc17477e9f3c459c8cbea425",
              "version_minor": 0,
              "version_major": 2
            },
            "text/plain": [
              "interactive(children=(IntSlider(value=0, description='c', max=5, min=-5), Output()), _dom_classes=('widget-int…"
            ]
          },
          "metadata": {}
        },
        {
          "output_type": "execute_result",
          "data": {
            "text/plain": [
              "<function __main__.dibujo_funcion_exponencial>"
            ]
          },
          "metadata": {},
          "execution_count": 20
        }
      ]
    },
    {
      "cell_type": "markdown",
      "source": [
        "Alargamientos y compresiones\n",
        "\n",
        "1. $y=c\\times f(x)\\mapsto $ alarga a la funcion verticalmente en un factor de c.\n",
        "2. $y=\\frac{1}{c}\\times f(x) \\mapsto$ comprime verticalmente a la funcion en un factor de c.\n",
        "3. $y=f(\\frac{1}{c}\\times  x) \\mapsto $ alarga a la funcion horizontalmente en un factor de c. \n",
        "4. $y=f(c\\times x)\\mapsto $ comprime la funcion horizontalmente en un factor de c."
      ],
      "metadata": {
        "id": "bsX-6Fyp-Tjm"
      }
    },
    {
      "cell_type": "code",
      "source": [
        "def prueba(x):\n",
        "  return np.cos(x)\n",
        "\n",
        "def dibujar_funcion_prueba(c):\n",
        "  x=np.linspace(-20*np.pi,20*np.pi,num=1000)\n",
        "  y=prueba(c*x)\n",
        "\n",
        "  plt.axhline(y=0,color='red')\n",
        "  plt.axvline(x=0,color='green')\n",
        "  plt.grid(linestyle=':', linewidth=1)\n",
        "  plt.xlim(-20*np.pi,20*np.pi)\n",
        "  plt.ylim(-5,5)\n",
        "  plt.xlabel('Eje x')\n",
        "  plt.ylabel('Eje y')\n",
        "\n",
        "  plt.plot(x,y,color='gray',markersize=10,linewidth=1)"
      ],
      "metadata": {
        "id": "NoomWCd7Bsag"
      },
      "execution_count": null,
      "outputs": []
    },
    {
      "cell_type": "code",
      "source": [
        "dibujar_funcion_prueba(-2)"
      ],
      "metadata": {
        "colab": {
          "base_uri": "https://localhost:8080/",
          "height": 279
        },
        "id": "RgtItoyuEjnC",
        "outputId": "bae2d823-9ec8-4a2a-c79e-cac52450bcc7"
      },
      "execution_count": null,
      "outputs": [
        {
          "output_type": "display_data",
          "data": {
            "image/png": "[encoded data removed]",
            "text/plain": [
              "<Figure size 432x288 with 1 Axes>"
            ]
          },
          "metadata": {
            "needs_background": "light"
          }
        }
      ]
    },
    {
      "cell_type": "code",
      "source": [
        "interact(dibujar_funcion_prueba,c=((-1)*np.pi,np.pi))"
      ],
      "metadata": {
        "colab": {
          "base_uri": "https://localhost:8080/",
          "height": 328,
          "referenced_widgets": [
            "f99cb0653295455c8d742d7a8422742d",
            "e1e8dae571a24707ae2959447f2ccf1b",
            "d4a9cc6f045c45f1ac61f0822b198912",
            "f889494bde4f4d46b39c7651a77cf0da",
            "271f986be9094bff805fead98b4a45ab",
            "ed1bab1ba6654fc3adf77674ae34f992",
            "5c97ea042cb245bd8fce4a57d688a7c7"
          ]
        },
        "id": "obEmqU3FEutB",
        "outputId": "2285a6e8-d076-41b7-817b-de74957c845f"
      },
      "execution_count": null,
      "outputs": [
        {
          "output_type": "display_data",
          "data": {
            "application/vnd.jupyter.widget-view+json": {
              "model_id": "f99cb0653295455c8d742d7a8422742d",
              "version_minor": 0,
              "version_major": 2
            },
            "text/plain": [
              "interactive(children=(FloatSlider(value=0.0, description='c', max=3.141592653589793, min=-3.141592653589793), …"
            ]
          },
          "metadata": {}
        },
        {
          "output_type": "execute_result",
          "data": {
            "text/plain": [
              "<function __main__.dibujar_funcion_prueba>"
            ]
          },
          "metadata": {},
          "execution_count": 42
        }
      ]
    },
    {
      "cell_type": "code",
      "source": [
        "def j(argumento, base):\n",
        "  numerador=np.log2(argumento)\n",
        "  denominador=np.log2(base)\n",
        "  return numerador/denominador"
      ],
      "metadata": {
        "id": "4yGab_gHE_iB"
      },
      "execution_count": null,
      "outputs": []
    },
    {
      "cell_type": "code",
      "source": [
        "def dibujar_logaritmo(c):\n",
        "  x=np.linspace(0.00001,20,num=1000)\n",
        "  y=j(x,3)*c\n",
        "  plt.axhline(y=0,color='red')\n",
        "  plt.axvline(x=0,color='green')\n",
        "  plt.grid(color='gray',linestyle=':' ,linewidth=1)\n",
        "  plt.xlim(-10,10)\n",
        "  plt.ylim(-10,10)\n",
        "  plt.xlabel('Eje x')\n",
        "  plt.ylabel('Eje y')\n",
        "  plt.title('Funcion logaritmica base 3')\n",
        "  plt.plot(x,y)"
      ],
      "metadata": {
        "id": "xhCx4Y5rHmPa"
      },
      "execution_count": null,
      "outputs": []
    },
    {
      "cell_type": "code",
      "source": [
        "dibujar_logaritmo(0.5)"
      ],
      "metadata": {
        "colab": {
          "base_uri": "https://localhost:8080/",
          "height": 295
        },
        "id": "iqQzRqSfJA0i",
        "outputId": "bc026554-9833-450c-f1ef-e3dab9fb1c98"
      },
      "execution_count": null,
      "outputs": [
        {
          "output_type": "display_data",
          "data": {
            "image/png": "[encoded data removed]",
            "text/plain": [
              "<Figure size 432x288 with 1 Axes>"
            ]
          },
          "metadata": {
            "needs_background": "light"
          }
        }
      ]
    },
    {
      "cell_type": "code",
      "source": [
        "interact(dibujar_logaritmo,c=(-5.01,5.01))"
      ],
      "metadata": {
        "colab": {
          "base_uri": "https://localhost:8080/",
          "height": 344,
          "referenced_widgets": [
            "bcb0d879e0ca4376ab8dcf9794198cd1",
            "4a6f28f7cd3345e2b4c7dab74a22bb9e",
            "41422e940bef4259b3ffd29864f9f5e7",
            "84a0d00a7b1f45df8f2326a9eb387e6f",
            "6a08b2ea46ce4f579b7afc646d09c5ab",
            "de19f5fe763e45448d093e6dc9becca1",
            "a5cadc42e5f34f498cffd57ddb554db2"
          ]
        },
        "id": "P4WuGXHxJI4q",
        "outputId": "07bc6483-b7cc-4713-bc25-9f75a2a586d3"
      },
      "execution_count": null,
      "outputs": [
        {
          "output_type": "display_data",
          "data": {
            "application/vnd.jupyter.widget-view+json": {
              "model_id": "bcb0d879e0ca4376ab8dcf9794198cd1",
              "version_minor": 0,
              "version_major": 2
            },
            "text/plain": [
              "interactive(children=(FloatSlider(value=0.0, description='c', max=5.01, min=-5.01), Output()), _dom_classes=('…"
            ]
          },
          "metadata": {}
        },
        {
          "output_type": "execute_result",
          "data": {
            "text/plain": [
              "<function __main__.dibujar_logaritmo>"
            ]
          },
          "metadata": {},
          "execution_count": 70
        }
      ]
    },
    {
      "cell_type": "markdown",
      "source": [
        "Reflexiones:\n",
        "1. $y= -f(x)\\mapsto $ refleja la grafica respecto del eje x.\n",
        "2. $y= f(-x)\\mapsto $ refleja la grafica respecto del eje y"
      ],
      "metadata": {
        "id": "DJtc_dWnQ52T"
      }
    },
    {
      "cell_type": "code",
      "source": [
        "def racional(x):\n",
        "  return 1/x\n",
        "\n",
        "def reflejo(a):\n",
        "  x=np.linspace(-10,10, num=1000)\n",
        "  y=a*racional(x)\n",
        "  plt.axhline(y=0, color='red')\n",
        "  plt.axvline(x=0,color='green')\n",
        "  plt.xlim(-10,10)\n",
        "  plt.ylim(-10,10)\n",
        "  plt.grid(color='gray',linestyle=':', linewidth=1)\n",
        "  plt.xlabel('Eje x')\n",
        "  plt.ylabel('Eje y')\n",
        "  plt.title('Reflejo de funciones')\n",
        "  plt.plot(x,y, color='gray')"
      ],
      "metadata": {
        "id": "igJo6qOaRdvH"
      },
      "execution_count": null,
      "outputs": []
    },
    {
      "cell_type": "code",
      "source": [
        "reflejo(1)"
      ],
      "metadata": {
        "colab": {
          "base_uri": "https://localhost:8080/",
          "height": 295
        },
        "id": "uldJGW9JTmgU",
        "outputId": "20b721fa-8aef-4507-e55b-98e9827796d6"
      },
      "execution_count": null,
      "outputs": [
        {
          "output_type": "display_data",
          "data": {
            "image/png": "[encoded data removed]",
            "text/plain": [
              "<Figure size 432x288 with 1 Axes>"
            ]
          },
          "metadata": {
            "needs_background": "light"
          }
        }
      ]
    },
    {
      "cell_type": "code",
      "source": [
        "interact(reflejo,a=(-1,1))"
      ],
      "metadata": {
        "colab": {
          "base_uri": "https://localhost:8080/",
          "height": 344,
          "referenced_widgets": [
            "26d49510df484a3bb790d3086b26c47c",
            "62b50cfed81c40259fcf0d27d52328a0",
            "07817745dd0941b9bcd3d837249b5689",
            "e07e5d0d51fa4ab2be252b52faddd7e7",
            "81ce1fd7a21b407e9656f264eb7c91ec",
            "f18bc72e9ff14417add00fb9e6d3205c",
            "4cb4a8a32e9a4069a0e6de21defda928"
          ]
        },
        "id": "ZzO_iNl9TvtU",
        "outputId": "18d63593-f131-42f5-97e4-85b2cd3d62d5"
      },
      "execution_count": null,
      "outputs": [
        {
          "output_type": "display_data",
          "data": {
            "application/vnd.jupyter.widget-view+json": {
              "model_id": "26d49510df484a3bb790d3086b26c47c",
              "version_minor": 0,
              "version_major": 2
            },
            "text/plain": [
              "interactive(children=(IntSlider(value=0, description='a', max=1, min=-1), Output()), _dom_classes=('widget-int…"
            ]
          },
          "metadata": {}
        },
        {
          "output_type": "execute_result",
          "data": {
            "text/plain": [
              "<function __main__.reflejo>"
            ]
          },
          "metadata": {},
          "execution_count": 94
        }
      ]
    },
    {
      "cell_type": "code",
      "source": [
        "def yu(x):\n",
        "  return x**3\n",
        "\n",
        "def ref(b):\n",
        "  x=np.linspace(-10,10, num=1000)\n",
        "  y=yu(b*x)\n",
        "  plt.axhline(y=0, color='red')\n",
        "  plt.axvline(x=0,color='green')\n",
        "  plt.xlim(-10,10)\n",
        "  plt.ylim(-10,10)\n",
        "  plt.grid(color='gray',linestyle=':', linewidth=1)\n",
        "  plt.xlabel('Eje x')\n",
        "  plt.ylabel('Eje y')\n",
        "  plt.title('Reflejo de funciones')\n",
        "  plt.plot(x,y, color='gray')"
      ],
      "metadata": {
        "id": "h6UmwOBRUZrF"
      },
      "execution_count": null,
      "outputs": []
    },
    {
      "cell_type": "code",
      "source": [
        "ref(-1)"
      ],
      "metadata": {
        "colab": {
          "base_uri": "https://localhost:8080/",
          "height": 295
        },
        "id": "bAOeiQ1wUsPE",
        "outputId": "ce59e43a-8821-4f64-c7e9-1a765fa926dd"
      },
      "execution_count": null,
      "outputs": [
        {
          "output_type": "display_data",
          "data": {
            "image/png": "[encoded data removed]",
            "text/plain": [
              "<Figure size 432x288 with 1 Axes>"
            ]
          },
          "metadata": {
            "needs_background": "light"
          }
        }
      ]
    },
    {
      "cell_type": "code",
      "source": [
        "interact(ref,b=(-1,1))"
      ],
      "metadata": {
        "colab": {
          "base_uri": "https://localhost:8080/",
          "height": 344,
          "referenced_widgets": [
            "ca69540da2a841cbb06a7722c101ee35",
            "3ede4d31141640c7807513588282bfd9",
            "d15e937c8593411d803edca9b2ca6548",
            "5142c8c2890e4f2c88733f3ea10aa51c",
            "9651edf533a644658a82a12b9c3bb0ce",
            "a7e765bcc3674f7ba0a6730ae17201c1",
            "15ae3034b2d341a69280c8dd1cf14605"
          ]
        },
        "id": "Al1mwfEVUvW8",
        "outputId": "7aa404d2-7db1-4354-9bbe-f0133d132ee0"
      },
      "execution_count": null,
      "outputs": [
        {
          "output_type": "display_data",
          "data": {
            "application/vnd.jupyter.widget-view+json": {
              "model_id": "ca69540da2a841cbb06a7722c101ee35",
              "version_minor": 0,
              "version_major": 2
            },
            "text/plain": [
              "interactive(children=(IntSlider(value=0, description='b', max=1, min=-1), Output()), _dom_classes=('widget-int…"
            ]
          },
          "metadata": {}
        },
        {
          "output_type": "execute_result",
          "data": {
            "text/plain": [
              "<function __main__.ref>"
            ]
          },
          "metadata": {},
          "execution_count": 103
        }
      ]
    }
  ]
}